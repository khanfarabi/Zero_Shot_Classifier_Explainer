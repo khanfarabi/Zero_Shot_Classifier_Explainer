{
  "cells": [
    {
      "cell_type": "markdown",
      "metadata": {
        "id": "view-in-github",
        "colab_type": "text"
      },
      "source": [
        "<a href=\"https://colab.research.google.com/github/khanfarabi/Zero_Shot_Classifier_Explainer/blob/main/Zero_Shot_K_MEANS_Agglomerative_cluster_Appliccation.ipynb\" target=\"_parent\"><img src=\"https://colab.research.google.com/assets/colab-badge.svg\" alt=\"Open In Colab\"/></a>"
      ]
    },
    {
      "cell_type": "code",
      "execution_count": 1,
      "metadata": {
        "colab": {
          "base_uri": "https://localhost:8080/"
        },
        "id": "9fg-8mLgmFAL",
        "outputId": "ebd62f47-91ab-4ea5-83eb-695b011f8a0b"
      },
      "outputs": [
        {
          "output_type": "stream",
          "name": "stdout",
          "text": [
            "Collecting sentence_transformers\n",
            "  Downloading sentence-transformers-2.2.0.tar.gz (79 kB)\n",
            "\u001b[K     |████████████████████████████████| 79 kB 3.6 MB/s \n",
            "\u001b[?25hCollecting transformers<5.0.0,>=4.6.0\n",
            "  Downloading transformers-4.17.0-py3-none-any.whl (3.8 MB)\n",
            "\u001b[K     |████████████████████████████████| 3.8 MB 34.0 MB/s \n",
            "\u001b[?25hRequirement already satisfied: tqdm in /usr/local/lib/python3.7/dist-packages (from sentence_transformers) (4.63.0)\n",
            "Requirement already satisfied: torch>=1.6.0 in /usr/local/lib/python3.7/dist-packages (from sentence_transformers) (1.10.0+cu111)\n",
            "Requirement already satisfied: torchvision in /usr/local/lib/python3.7/dist-packages (from sentence_transformers) (0.11.1+cu111)\n",
            "Requirement already satisfied: numpy in /usr/local/lib/python3.7/dist-packages (from sentence_transformers) (1.21.5)\n",
            "Requirement already satisfied: scikit-learn in /usr/local/lib/python3.7/dist-packages (from sentence_transformers) (1.0.2)\n",
            "Requirement already satisfied: scipy in /usr/local/lib/python3.7/dist-packages (from sentence_transformers) (1.4.1)\n",
            "Requirement already satisfied: nltk in /usr/local/lib/python3.7/dist-packages (from sentence_transformers) (3.2.5)\n",
            "Collecting sentencepiece\n",
            "  Downloading sentencepiece-0.1.96-cp37-cp37m-manylinux_2_17_x86_64.manylinux2014_x86_64.whl (1.2 MB)\n",
            "\u001b[K     |████████████████████████████████| 1.2 MB 31.4 MB/s \n",
            "\u001b[?25hCollecting huggingface-hub\n",
            "  Downloading huggingface_hub-0.4.0-py3-none-any.whl (67 kB)\n",
            "\u001b[K     |████████████████████████████████| 67 kB 4.6 MB/s \n",
            "\u001b[?25hRequirement already satisfied: typing-extensions in /usr/local/lib/python3.7/dist-packages (from torch>=1.6.0->sentence_transformers) (3.10.0.2)\n",
            "Requirement already satisfied: importlib-metadata in /usr/local/lib/python3.7/dist-packages (from transformers<5.0.0,>=4.6.0->sentence_transformers) (4.11.2)\n",
            "Requirement already satisfied: requests in /usr/local/lib/python3.7/dist-packages (from transformers<5.0.0,>=4.6.0->sentence_transformers) (2.23.0)\n",
            "Requirement already satisfied: filelock in /usr/local/lib/python3.7/dist-packages (from transformers<5.0.0,>=4.6.0->sentence_transformers) (3.6.0)\n",
            "Requirement already satisfied: regex!=2019.12.17 in /usr/local/lib/python3.7/dist-packages (from transformers<5.0.0,>=4.6.0->sentence_transformers) (2019.12.20)\n",
            "Collecting tokenizers!=0.11.3,>=0.11.1\n",
            "  Downloading tokenizers-0.11.6-cp37-cp37m-manylinux_2_12_x86_64.manylinux2010_x86_64.whl (6.5 MB)\n",
            "\u001b[K     |████████████████████████████████| 6.5 MB 64.6 MB/s \n",
            "\u001b[?25hCollecting pyyaml>=5.1\n",
            "  Downloading PyYAML-6.0-cp37-cp37m-manylinux_2_5_x86_64.manylinux1_x86_64.manylinux_2_12_x86_64.manylinux2010_x86_64.whl (596 kB)\n",
            "\u001b[K     |████████████████████████████████| 596 kB 71.6 MB/s \n",
            "\u001b[?25hRequirement already satisfied: packaging>=20.0 in /usr/local/lib/python3.7/dist-packages (from transformers<5.0.0,>=4.6.0->sentence_transformers) (21.3)\n",
            "Collecting sacremoses\n",
            "  Downloading sacremoses-0.0.47-py2.py3-none-any.whl (895 kB)\n",
            "\u001b[K     |████████████████████████████████| 895 kB 68.9 MB/s \n",
            "\u001b[?25hRequirement already satisfied: pyparsing!=3.0.5,>=2.0.2 in /usr/local/lib/python3.7/dist-packages (from packaging>=20.0->transformers<5.0.0,>=4.6.0->sentence_transformers) (3.0.7)\n",
            "Requirement already satisfied: zipp>=0.5 in /usr/local/lib/python3.7/dist-packages (from importlib-metadata->transformers<5.0.0,>=4.6.0->sentence_transformers) (3.7.0)\n",
            "Requirement already satisfied: six in /usr/local/lib/python3.7/dist-packages (from nltk->sentence_transformers) (1.15.0)\n",
            "Requirement already satisfied: certifi>=2017.4.17 in /usr/local/lib/python3.7/dist-packages (from requests->transformers<5.0.0,>=4.6.0->sentence_transformers) (2021.10.8)\n",
            "Requirement already satisfied: chardet<4,>=3.0.2 in /usr/local/lib/python3.7/dist-packages (from requests->transformers<5.0.0,>=4.6.0->sentence_transformers) (3.0.4)\n",
            "Requirement already satisfied: urllib3!=1.25.0,!=1.25.1,<1.26,>=1.21.1 in /usr/local/lib/python3.7/dist-packages (from requests->transformers<5.0.0,>=4.6.0->sentence_transformers) (1.24.3)\n",
            "Requirement already satisfied: idna<3,>=2.5 in /usr/local/lib/python3.7/dist-packages (from requests->transformers<5.0.0,>=4.6.0->sentence_transformers) (2.10)\n",
            "Requirement already satisfied: joblib in /usr/local/lib/python3.7/dist-packages (from sacremoses->transformers<5.0.0,>=4.6.0->sentence_transformers) (1.1.0)\n",
            "Requirement already satisfied: click in /usr/local/lib/python3.7/dist-packages (from sacremoses->transformers<5.0.0,>=4.6.0->sentence_transformers) (7.1.2)\n",
            "Requirement already satisfied: threadpoolctl>=2.0.0 in /usr/local/lib/python3.7/dist-packages (from scikit-learn->sentence_transformers) (3.1.0)\n",
            "Requirement already satisfied: pillow!=8.3.0,>=5.3.0 in /usr/local/lib/python3.7/dist-packages (from torchvision->sentence_transformers) (7.1.2)\n",
            "Building wheels for collected packages: sentence-transformers\n",
            "  Building wheel for sentence-transformers (setup.py) ... \u001b[?25l\u001b[?25hdone\n",
            "  Created wheel for sentence-transformers: filename=sentence_transformers-2.2.0-py3-none-any.whl size=120747 sha256=27316290db84f08eb7c8a791da2419b9d3a6e7d4259c0c946458c44aace44450\n",
            "  Stored in directory: /root/.cache/pip/wheels/83/c0/df/b6873ab7aac3f2465aa9144b6b4c41c4391cfecc027c8b07e7\n",
            "Successfully built sentence-transformers\n",
            "Installing collected packages: pyyaml, tokenizers, sacremoses, huggingface-hub, transformers, sentencepiece, sentence-transformers\n",
            "  Attempting uninstall: pyyaml\n",
            "    Found existing installation: PyYAML 3.13\n",
            "    Uninstalling PyYAML-3.13:\n",
            "      Successfully uninstalled PyYAML-3.13\n",
            "Successfully installed huggingface-hub-0.4.0 pyyaml-6.0 sacremoses-0.0.47 sentence-transformers-2.2.0 sentencepiece-0.1.96 tokenizers-0.11.6 transformers-4.17.0\n",
            "Requirement already satisfied: transformers in /usr/local/lib/python3.7/dist-packages (4.17.0)\n",
            "Requirement already satisfied: packaging>=20.0 in /usr/local/lib/python3.7/dist-packages (from transformers) (21.3)\n",
            "Requirement already satisfied: requests in /usr/local/lib/python3.7/dist-packages (from transformers) (2.23.0)\n",
            "Requirement already satisfied: regex!=2019.12.17 in /usr/local/lib/python3.7/dist-packages (from transformers) (2019.12.20)\n",
            "Requirement already satisfied: importlib-metadata in /usr/local/lib/python3.7/dist-packages (from transformers) (4.11.2)\n",
            "Requirement already satisfied: huggingface-hub<1.0,>=0.1.0 in /usr/local/lib/python3.7/dist-packages (from transformers) (0.4.0)\n",
            "Requirement already satisfied: sacremoses in /usr/local/lib/python3.7/dist-packages (from transformers) (0.0.47)\n",
            "Requirement already satisfied: filelock in /usr/local/lib/python3.7/dist-packages (from transformers) (3.6.0)\n",
            "Requirement already satisfied: tokenizers!=0.11.3,>=0.11.1 in /usr/local/lib/python3.7/dist-packages (from transformers) (0.11.6)\n",
            "Requirement already satisfied: numpy>=1.17 in /usr/local/lib/python3.7/dist-packages (from transformers) (1.21.5)\n",
            "Requirement already satisfied: tqdm>=4.27 in /usr/local/lib/python3.7/dist-packages (from transformers) (4.63.0)\n",
            "Requirement already satisfied: pyyaml>=5.1 in /usr/local/lib/python3.7/dist-packages (from transformers) (6.0)\n",
            "Requirement already satisfied: typing-extensions>=3.7.4.3 in /usr/local/lib/python3.7/dist-packages (from huggingface-hub<1.0,>=0.1.0->transformers) (3.10.0.2)\n",
            "Requirement already satisfied: pyparsing!=3.0.5,>=2.0.2 in /usr/local/lib/python3.7/dist-packages (from packaging>=20.0->transformers) (3.0.7)\n",
            "Requirement already satisfied: zipp>=0.5 in /usr/local/lib/python3.7/dist-packages (from importlib-metadata->transformers) (3.7.0)\n",
            "Requirement already satisfied: idna<3,>=2.5 in /usr/local/lib/python3.7/dist-packages (from requests->transformers) (2.10)\n",
            "Requirement already satisfied: certifi>=2017.4.17 in /usr/local/lib/python3.7/dist-packages (from requests->transformers) (2021.10.8)\n",
            "Requirement already satisfied: chardet<4,>=3.0.2 in /usr/local/lib/python3.7/dist-packages (from requests->transformers) (3.0.4)\n",
            "Requirement already satisfied: urllib3!=1.25.0,!=1.25.1,<1.26,>=1.21.1 in /usr/local/lib/python3.7/dist-packages (from requests->transformers) (1.24.3)\n",
            "Requirement already satisfied: joblib in /usr/local/lib/python3.7/dist-packages (from sacremoses->transformers) (1.1.0)\n",
            "Requirement already satisfied: six in /usr/local/lib/python3.7/dist-packages (from sacremoses->transformers) (1.15.0)\n",
            "Requirement already satisfied: click in /usr/local/lib/python3.7/dist-packages (from sacremoses->transformers) (7.1.2)\n",
            "Collecting datasets\n",
            "  Downloading datasets-1.18.4-py3-none-any.whl (312 kB)\n",
            "\u001b[K     |████████████████████████████████| 312 kB 5.3 MB/s \n",
            "\u001b[?25hRequirement already satisfied: pandas in /usr/local/lib/python3.7/dist-packages (from datasets) (1.3.5)\n",
            "Requirement already satisfied: multiprocess in /usr/local/lib/python3.7/dist-packages (from datasets) (0.70.12.2)\n",
            "Requirement already satisfied: huggingface-hub<1.0.0,>=0.1.0 in /usr/local/lib/python3.7/dist-packages (from datasets) (0.4.0)\n",
            "Collecting responses<0.19\n",
            "  Downloading responses-0.18.0-py3-none-any.whl (38 kB)\n",
            "Requirement already satisfied: packaging in /usr/local/lib/python3.7/dist-packages (from datasets) (21.3)\n",
            "Requirement already satisfied: importlib-metadata in /usr/local/lib/python3.7/dist-packages (from datasets) (4.11.2)\n",
            "Collecting xxhash\n",
            "  Downloading xxhash-3.0.0-cp37-cp37m-manylinux_2_17_x86_64.manylinux2014_x86_64.whl (212 kB)\n",
            "\u001b[K     |████████████████████████████████| 212 kB 78.8 MB/s \n",
            "\u001b[?25hCollecting aiohttp\n",
            "  Downloading aiohttp-3.8.1-cp37-cp37m-manylinux_2_5_x86_64.manylinux1_x86_64.manylinux_2_12_x86_64.manylinux2010_x86_64.whl (1.1 MB)\n",
            "\u001b[K     |████████████████████████████████| 1.1 MB 80.2 MB/s \n",
            "\u001b[?25hCollecting fsspec[http]>=2021.05.0\n",
            "  Downloading fsspec-2022.2.0-py3-none-any.whl (134 kB)\n",
            "\u001b[K     |████████████████████████████████| 134 kB 80.0 MB/s \n",
            "\u001b[?25hRequirement already satisfied: numpy>=1.17 in /usr/local/lib/python3.7/dist-packages (from datasets) (1.21.5)\n",
            "Requirement already satisfied: dill in /usr/local/lib/python3.7/dist-packages (from datasets) (0.3.4)\n",
            "Requirement already satisfied: pyarrow!=4.0.0,>=3.0.0 in /usr/local/lib/python3.7/dist-packages (from datasets) (6.0.1)\n",
            "Requirement already satisfied: requests>=2.19.0 in /usr/local/lib/python3.7/dist-packages (from datasets) (2.23.0)\n",
            "Requirement already satisfied: tqdm>=4.62.1 in /usr/local/lib/python3.7/dist-packages (from datasets) (4.63.0)\n",
            "Requirement already satisfied: filelock in /usr/local/lib/python3.7/dist-packages (from huggingface-hub<1.0.0,>=0.1.0->datasets) (3.6.0)\n",
            "Requirement already satisfied: typing-extensions>=3.7.4.3 in /usr/local/lib/python3.7/dist-packages (from huggingface-hub<1.0.0,>=0.1.0->datasets) (3.10.0.2)\n",
            "Requirement already satisfied: pyyaml in /usr/local/lib/python3.7/dist-packages (from huggingface-hub<1.0.0,>=0.1.0->datasets) (6.0)\n",
            "Requirement already satisfied: pyparsing!=3.0.5,>=2.0.2 in /usr/local/lib/python3.7/dist-packages (from packaging->datasets) (3.0.7)\n",
            "Requirement already satisfied: chardet<4,>=3.0.2 in /usr/local/lib/python3.7/dist-packages (from requests>=2.19.0->datasets) (3.0.4)\n",
            "Requirement already satisfied: urllib3!=1.25.0,!=1.25.1,<1.26,>=1.21.1 in /usr/local/lib/python3.7/dist-packages (from requests>=2.19.0->datasets) (1.24.3)\n",
            "Requirement already satisfied: certifi>=2017.4.17 in /usr/local/lib/python3.7/dist-packages (from requests>=2.19.0->datasets) (2021.10.8)\n",
            "Requirement already satisfied: idna<3,>=2.5 in /usr/local/lib/python3.7/dist-packages (from requests>=2.19.0->datasets) (2.10)\n",
            "Collecting urllib3!=1.25.0,!=1.25.1,<1.26,>=1.21.1\n",
            "  Downloading urllib3-1.25.11-py2.py3-none-any.whl (127 kB)\n",
            "\u001b[K     |████████████████████████████████| 127 kB 80.4 MB/s \n",
            "\u001b[?25hRequirement already satisfied: charset-normalizer<3.0,>=2.0 in /usr/local/lib/python3.7/dist-packages (from aiohttp->datasets) (2.0.12)\n",
            "Collecting aiosignal>=1.1.2\n",
            "  Downloading aiosignal-1.2.0-py3-none-any.whl (8.2 kB)\n",
            "Collecting multidict<7.0,>=4.5\n",
            "  Downloading multidict-6.0.2-cp37-cp37m-manylinux_2_17_x86_64.manylinux2014_x86_64.whl (94 kB)\n",
            "\u001b[K     |████████████████████████████████| 94 kB 2.9 MB/s \n",
            "\u001b[?25hCollecting yarl<2.0,>=1.0\n",
            "  Downloading yarl-1.7.2-cp37-cp37m-manylinux_2_5_x86_64.manylinux1_x86_64.manylinux_2_12_x86_64.manylinux2010_x86_64.whl (271 kB)\n",
            "\u001b[K     |████████████████████████████████| 271 kB 83.2 MB/s \n",
            "\u001b[?25hCollecting frozenlist>=1.1.1\n",
            "  Downloading frozenlist-1.3.0-cp37-cp37m-manylinux_2_5_x86_64.manylinux1_x86_64.manylinux_2_17_x86_64.manylinux2014_x86_64.whl (144 kB)\n",
            "\u001b[K     |████████████████████████████████| 144 kB 76.8 MB/s \n",
            "\u001b[?25hCollecting async-timeout<5.0,>=4.0.0a3\n",
            "  Downloading async_timeout-4.0.2-py3-none-any.whl (5.8 kB)\n",
            "Collecting asynctest==0.13.0\n",
            "  Downloading asynctest-0.13.0-py3-none-any.whl (26 kB)\n",
            "Requirement already satisfied: attrs>=17.3.0 in /usr/local/lib/python3.7/dist-packages (from aiohttp->datasets) (21.4.0)\n",
            "Requirement already satisfied: zipp>=0.5 in /usr/local/lib/python3.7/dist-packages (from importlib-metadata->datasets) (3.7.0)\n",
            "Requirement already satisfied: python-dateutil>=2.7.3 in /usr/local/lib/python3.7/dist-packages (from pandas->datasets) (2.8.2)\n",
            "Requirement already satisfied: pytz>=2017.3 in /usr/local/lib/python3.7/dist-packages (from pandas->datasets) (2018.9)\n",
            "Requirement already satisfied: six>=1.5 in /usr/local/lib/python3.7/dist-packages (from python-dateutil>=2.7.3->pandas->datasets) (1.15.0)\n",
            "Installing collected packages: multidict, frozenlist, yarl, urllib3, asynctest, async-timeout, aiosignal, fsspec, aiohttp, xxhash, responses, datasets\n",
            "  Attempting uninstall: urllib3\n",
            "    Found existing installation: urllib3 1.24.3\n",
            "    Uninstalling urllib3-1.24.3:\n",
            "      Successfully uninstalled urllib3-1.24.3\n",
            "\u001b[31mERROR: pip's dependency resolver does not currently take into account all the packages that are installed. This behaviour is the source of the following dependency conflicts.\n",
            "datascience 0.10.6 requires folium==0.2.1, but you have folium 0.8.3 which is incompatible.\u001b[0m\n",
            "Successfully installed aiohttp-3.8.1 aiosignal-1.2.0 async-timeout-4.0.2 asynctest-0.13.0 datasets-1.18.4 frozenlist-1.3.0 fsspec-2022.2.0 multidict-6.0.2 responses-0.18.0 urllib3-1.25.11 xxhash-3.0.0 yarl-1.7.2\n",
            "Collecting stop_words\n",
            "  Downloading stop-words-2018.7.23.tar.gz (31 kB)\n",
            "Building wheels for collected packages: stop-words\n",
            "  Building wheel for stop-words (setup.py) ... \u001b[?25l\u001b[?25hdone\n",
            "  Created wheel for stop-words: filename=stop_words-2018.7.23-py3-none-any.whl size=32911 sha256=e4bc6522d7ec847484ee3b449c53a9b57406decd11aa6eb6f01a74d5adeaa175\n",
            "  Stored in directory: /root/.cache/pip/wheels/fb/86/b2/277b10b1ce9f73ce15059bf6975d4547cc4ec3feeb651978e9\n",
            "Successfully built stop-words\n",
            "Installing collected packages: stop-words\n",
            "Successfully installed stop-words-2018.7.23\n"
          ]
        }
      ],
      "source": [
        "def inst():\n",
        "        !pip install sentence_transformers\n",
        "        !pip install transformers\n",
        "        !pip install datasets\n",
        "        !pip install stop_words\n",
        "inst()"
      ]
    },
    {
      "cell_type": "code",
      "execution_count": null,
      "metadata": {
        "id": "0Y3ksE8amFBv"
      },
      "outputs": [],
      "source": [
        ""
      ]
    },
    {
      "cell_type": "code",
      "execution_count": null,
      "metadata": {
        "id": "Sj2TGrr4mFGp"
      },
      "outputs": [],
      "source": [
        ""
      ]
    },
    {
      "cell_type": "code",
      "execution_count": null,
      "metadata": {
        "id": "CcrF9sF3mFIC"
      },
      "outputs": [],
      "source": [
        ""
      ]
    },
    {
      "cell_type": "code",
      "execution_count": null,
      "metadata": {
        "id": "LRwj6fJfmFMc"
      },
      "outputs": [],
      "source": [
        ""
      ]
    },
    {
      "cell_type": "code",
      "execution_count": null,
      "metadata": {
        "id": "366NoOounkh-"
      },
      "outputs": [],
      "source": [
        ""
      ]
    },
    {
      "cell_type": "code",
      "execution_count": 2,
      "metadata": {
        "colab": {
          "base_uri": "https://localhost:8080/",
          "height": 304,
          "referenced_widgets": [
            "6255ed839d94456a8c79f0b74babcaf9",
            "9064c5f5ef234f7a93588341272840af",
            "54346f09bc8a4531951a7e408471d1f7",
            "1962999abbf94e6b9e5858f2efeefc67",
            "9f025d14b8a64dbd81af9846e631ac83",
            "5deb1ddba3e34ac89267159c455e2a8a",
            "732329df873649a6944d2f76e80f800a",
            "fa8abd78b7af43e2bff1461a510691f4",
            "0fba892072c44ad0b3de854984646f62",
            "148bd5e001d84c2c8ee02d1353563b99",
            "b388cfc4e7344fd3b2f644c4c1482ac8",
            "3f5e49e508964ca89e4eed23ca7392e5",
            "0afe040cc1834548b4b852f97fa09129",
            "9e08ebdc7ffc40dfaf0f5b5d343040bb",
            "cdc481e3a30148f788e05f5cfda6eb7d",
            "c5ae3f94903f48b9996554b2b5899967",
            "355e8e107a814fd6802282b4f7f27a1a",
            "6b1789e6d23e426184956979e9acf15c",
            "11fb7607023445f2acae81a415636549",
            "ca4b7acbfca6478983c765db87f5068e",
            "ddddead89a9c463d92d9de4679925a2b",
            "ad6ae26b6fd24aadbbe0e88887b36695",
            "33b3b1076941435784fa48adb301a01f",
            "fa1f07ee77574a56a256b02c68bf719f",
            "f71df8e2a32a46d69e1e42bd0a4e993c",
            "859a263f51c848c4a4bcc162913ede2a",
            "1043a4614436466fa02f13e63b9d56b3",
            "7840a0ad99194f0eae281a8e4f543c84",
            "45c5c4099ebc440a8d196cbc714d958e",
            "23a49de90ec149338761b491c96270c2",
            "5a39b1a2edb04f01871b5ba8cbec3372",
            "a8784932f3e34dde9071b8db7a547c5d",
            "903c1efdc10a43789b13dc2e75e2c29e",
            "e4442066c7fb48a5bdb401f4176a0353",
            "0e08e54d55df497796e0e8114d5309bc",
            "082a46648f154671b6441927b83125fa",
            "7b25a1a58db14e67979ff65fb9e8d8c9",
            "802d9631dd064d8eae37fc66dc150b38",
            "8c8b62c9928949d08a7f3e440a2f490c",
            "56fd0607439740f0a0e7cb1be3144925",
            "e61c6c11423b4902b5c813081b4258a8",
            "b7b7c22250d54122a71a432a1ae88a09",
            "9090ec06cf254064ae1e1fc277a3fa29",
            "360b369b333741d6be65e4ad8ef13388",
            "2ac11898541e456b96a3a507f73ae9c9",
            "d717459c90c94e65b24f91706c8af208",
            "6af2ce0d42134674a13af6a3fa0a3832",
            "a0c0e34a3c15456884e5a1a60e7efc41",
            "2e95e8a8929e4a718b5a6ad6a7124d81",
            "5eb03942c12f40668651f20347d3ed4a",
            "c432a15929264c38bf2cdb8471562aea",
            "d367d5e3168c4dbba56a12867c83264d",
            "7c55d35916af43ea90ea872219ebf3be",
            "66cf1d8eb90143dbab113c3d6087941a",
            "a6bc0dfc8bc44a6e9e1848ef5b6816db",
            "ea5ac008d65e4c30abf8a4870959d77a",
            "226147cd132344a5a9a160d468583f11",
            "f2d7b64ebf1b433eb3f8c3202d3469f0",
            "abc7a574478d4c31bc85ffee8f7fbeeb",
            "6192648a326b40cd8ff06bcb4d2d54d3",
            "fbf84a36e57c4aef8720b0ba1d4cedf7",
            "a4a5f507eee3464f99dced5222db60b1",
            "a2dd53bddb314a038b7f50dd9bbf2a66",
            "fe92c0b3134040c3867d978b6e3e6589",
            "f4bfdf7edda544fab463fe65e7e2b484",
            "54ce7e796e2c4af79e3f5623fb19d0f3",
            "333cc272b7c74d099c8012c698b75bf9",
            "cafb44049cf248bc8238b17ee8f671cd",
            "64945d0d8c9547c08d6718271028d7ac",
            "f55f5df242374680906bdcab8d919bc8",
            "b1d35ccff4bf4ac5ad0766003fe38303",
            "47402042374b44a280bf6468b1cba23f",
            "c29f3cdb5be441b8ada116f1d1e60021",
            "e498e8c9f15b4390b999415d76bedaa6",
            "5742c20ba8e94a5298f6dd1b78636ba9",
            "e4563be90eb947cc9491c7f0588adbc0",
            "b760580f913347b9aa98425dbb1a8f56"
          ]
        },
        "id": "U-WVaNIPnkmR",
        "outputId": "4db17e58-7a29-4864-e2e7-7a2390c98cad"
      },
      "outputs": [
        {
          "output_type": "display_data",
          "data": {
            "application/vnd.jupyter.widget-view+json": {
              "model_id": "6255ed839d94456a8c79f0b74babcaf9",
              "version_minor": 0,
              "version_major": 2
            },
            "text/plain": [
              "Downloading:   0%|          | 0.00/4.17k [00:00<?, ?B/s]"
            ]
          },
          "metadata": {}
        },
        {
          "output_type": "display_data",
          "data": {
            "application/vnd.jupyter.widget-view+json": {
              "model_id": "3f5e49e508964ca89e4eed23ca7392e5",
              "version_minor": 0,
              "version_major": 2
            },
            "text/plain": [
              "Downloading:   0%|          | 0.00/2.37k [00:00<?, ?B/s]"
            ]
          },
          "metadata": {}
        },
        {
          "output_type": "stream",
          "name": "stdout",
          "text": [
            "Downloading and preparing dataset reuters21578/ModApte (download: 7.77 MiB, generated: 12.48 MiB, post-processed: Unknown size, total: 20.25 MiB) to /root/.cache/huggingface/datasets/reuters21578/ModApte/1.0.0/98a2ad6a0242627562db83992f9625261854c40a88619322596153a5a16a206c...\n"
          ]
        },
        {
          "output_type": "display_data",
          "data": {
            "application/vnd.jupyter.widget-view+json": {
              "model_id": "33b3b1076941435784fa48adb301a01f",
              "version_minor": 0,
              "version_major": 2
            },
            "text/plain": [
              "Downloading:   0%|          | 0.00/8.15M [00:00<?, ?B/s]"
            ]
          },
          "metadata": {}
        },
        {
          "output_type": "display_data",
          "data": {
            "application/vnd.jupyter.widget-view+json": {
              "model_id": "e4442066c7fb48a5bdb401f4176a0353",
              "version_minor": 0,
              "version_major": 2
            },
            "text/plain": [
              "0 examples [00:00, ? examples/s]"
            ]
          },
          "metadata": {}
        },
        {
          "output_type": "display_data",
          "data": {
            "application/vnd.jupyter.widget-view+json": {
              "model_id": "2ac11898541e456b96a3a507f73ae9c9",
              "version_minor": 0,
              "version_major": 2
            },
            "text/plain": [
              "0 examples [00:00, ? examples/s]"
            ]
          },
          "metadata": {}
        },
        {
          "output_type": "display_data",
          "data": {
            "application/vnd.jupyter.widget-view+json": {
              "model_id": "ea5ac008d65e4c30abf8a4870959d77a",
              "version_minor": 0,
              "version_major": 2
            },
            "text/plain": [
              "0 examples [00:00, ? examples/s]"
            ]
          },
          "metadata": {}
        },
        {
          "output_type": "stream",
          "name": "stdout",
          "text": [
            "Dataset reuters21578 downloaded and prepared to /root/.cache/huggingface/datasets/reuters21578/ModApte/1.0.0/98a2ad6a0242627562db83992f9625261854c40a88619322596153a5a16a206c. Subsequent calls will reuse this data.\n"
          ]
        },
        {
          "output_type": "display_data",
          "data": {
            "application/vnd.jupyter.widget-view+json": {
              "model_id": "333cc272b7c74d099c8012c698b75bf9",
              "version_minor": 0,
              "version_major": 2
            },
            "text/plain": [
              "  0%|          | 0/3 [00:00<?, ?it/s]"
            ]
          },
          "metadata": {}
        },
        {
          "output_type": "stream",
          "name": "stdout",
          "text": [
            "[nltk_data] Downloading package punkt to /root/nltk_data...\n",
            "[nltk_data]   Unzipping tokenizers/punkt.zip.\n",
            "[nltk_data] Downloading package wordnet to /root/nltk_data...\n",
            "[nltk_data]   Unzipping corpora/wordnet.zip.\n",
            "[nltk_data] Downloading package stopwords to /root/nltk_data...\n",
            "[nltk_data]   Unzipping corpora/stopwords.zip.\n"
          ]
        }
      ],
      "source": [
        "# Data Preprocessing to retieve the texts with the multiple labels\n",
        "from datasets import load_dataset\n",
        "\n",
        "reuters= load_dataset('reuters21578', 'ModApte')\n",
        "import re\n",
        "import random\n",
        "\n",
        "random.seed(1)\n",
        "\n",
        "def clean(label):\n",
        "    label = re.sub(\"([a-z])([A-Z])\", \"\\\\1 \\\\2\", label)\n",
        "    label = label.replace(\"_\", \" \")\n",
        "    return label\n",
        "\n",
        "\n",
        "def sample_test_data(texts,  labels, size):\n",
        "    data = list(zip(texts, labels))\n",
        "    data = [item for item in data if len(item[0]) > 0]\n",
        "    #random.shuffle(data)\n",
        "    texts, labels = zip(*data)\n",
        "    return texts[:size], labels[:size], texts[size:], labels[size:]\n",
        "reuters_train_texts, reuters_train_labels, _, _ = sample_test_data(reuters['train'], reuters['train']['topics'], 50000)\n",
        "import numpy as np\n",
        "import operator\n",
        "import matplotlib.pyplot as plt\n",
        "#from transformers import pipeline\n",
        "from pylab import rcParams\n",
        "import sys \n",
        "import nltk\n",
        "import re\n",
        "nltk.download('punkt')\n",
        "import csv\n",
        "import pandas as pd\n",
        "txt=[]\n",
        "\n",
        "import nltk\n",
        "nltk.download('wordnet')\n",
        "import nltk\n",
        "from stop_words import get_stop_words\n",
        "from nltk.corpus import stopwords\n",
        "nltk.download('stopwords')\n",
        "stop_words = list(get_stop_words('en'))         #Have around 900 stopwords\n",
        "nltk_words = list(stopwords.words('english'))   #Have around 150 stopwords\n",
        "stop_words.extend(nltk_words)\n",
        "rttext_tag={}\n",
        "label_class=[]\n",
        "WORDS_ev={}\n",
        "sintag={}\n",
        "eid_maps={}\n",
        "eid_mapm={}\n",
        "rid=0\n",
        "rd_txt={}\n",
        "txt_rd={}\n",
        "#\n",
        "rttext_tags={}\n",
        "label_classs=[]\n",
        "WORDS_evs={}\n",
        "sintags={}\n",
        "eid_mapss={}\n",
        "eid_mapms={}\n",
        "rids=0\n",
        "rd_txts={}\n",
        "txt_rds={}\n",
        "\n",
        "for hh in range(len(reuters_train_labels)):\n",
        "  if len(reuters_train_labels[hh])>0 and len(reuters_train_texts[hh]['text'].split())>0:\n",
        "                  zz=reuters_train_labels[hh]\n",
        "                  #print(\"text\"+\"\\n\")\n",
        "                  if len(zz)>1 and len(zz)<=3:\n",
        "                          vcc=0\n",
        "                          jj=re.sub('\\s+(a|an|and|the)(\\s+)', '\\2',reuters_train_texts[hh]['text'])\n",
        "                          from nltk.tokenize import word_tokenize\n",
        "                          tokens = word_tokenize(jj)\n",
        "                          # convert to lower case\n",
        "                          tokens = [w.lower() for w in tokens]\n",
        "                          # remove punctuation from each word\n",
        "                          import string\n",
        "                          table = str.maketrans('', '', string.punctuation)\n",
        "                          stripped = [w.translate(table) for w in tokens]\n",
        "                          # remove remaining tokens that are not alphabetic\n",
        "                          words = [word for word in stripped if word.isalpha()]\n",
        "                          # filter out stop words\n",
        "                          from nltk.corpus import stopwords\n",
        "                          stop_words = set(stopwords.words('english'))\n",
        "                          words = [w for w in words if not w in stop_words and len(w)>=3]\n",
        "                          wrd=[]\n",
        "                          sz=''\n",
        "                          for k in words:\n",
        "                              if vcc<150:\n",
        "                                wrd.append(k)\n",
        "                                vcc=vcc+1\n",
        "                          #rttext_tag[wrd]=zz[0]\n",
        "                          if len(wrd)>=10:\n",
        "                              WORDS_ev[rid]=wrd\n",
        "                              #rid=rid+1\n",
        "                              for vv in wrd:\n",
        "                                if vv!='reuter':\n",
        "                                    sz=sz+vv+\" \"\n",
        "                            #print(zz,sz)\n",
        "                              for kk in zz:\n",
        "                                if kk not in label_class:\n",
        "                                    label_class.append(kk)\n",
        "                              rttext_tag[sz]=zz\n",
        "                              sintag[sz]=zz[0:1]\n",
        "                              eid_maps[rid]=zz[0:1]\n",
        "                              eid_mapm[rid]=zz\n",
        "                              rd_txt[rid]=sz\n",
        "                              txt_rd[sz]=rid\n",
        "                              rid=rid+1\n",
        "                          #print(reuters_train_texts[hh]['text'].split())\n",
        "                          #txt.append(reuters_train_texts[hh]['text'])\n",
        "                          #print(\"\\n\\n\")\n",
        "                  elif len(zz)==1:\n",
        "                                        vcc=0\n",
        "                                        jj=re.sub('\\s+(a|an|and|the)(\\s+)', '\\2',reuters_train_texts[hh]['text'])\n",
        "                                        from nltk.tokenize import word_tokenize\n",
        "                                        tokens = word_tokenize(jj)\n",
        "                                        # convert to lower case\n",
        "                                        tokens = [w.lower() for w in tokens]\n",
        "                                        # remove punctuation from each word\n",
        "                                        import string\n",
        "                                        table = str.maketrans('', '', string.punctuation)\n",
        "                                        stripped = [w.translate(table) for w in tokens]\n",
        "                                        # remove remaining tokens that are not alphabetic\n",
        "                                        words = [word for word in stripped if word.isalpha()]\n",
        "                                        # filter out stop words\n",
        "                                        from nltk.corpus import stopwords\n",
        "                                        stop_words = set(stopwords.words('english'))\n",
        "                                        words = [w for w in words if not w in stop_words and len(w)>=4]\n",
        "                                        wrd=[]\n",
        "                                        sz=''\n",
        "                                        for k in words:\n",
        "                                            if vcc<150:\n",
        "                                                wrd.append(k)\n",
        "                                                vcc=vcc+1\n",
        "                                        #rttext_tag[wrd]=zz[0]\n",
        "                                        if len(wrd)>=5:\n",
        "                                            WORDS_evs[rid]=wrd\n",
        "                                            #rid=rid+1\n",
        "                                            for vv in wrd:\n",
        "                                                if vv!='reuter':\n",
        "                                                    sz=sz+vv+\" \"\n",
        "                                            #print(zz,sz)\n",
        "                                            for kk in zz:\n",
        "                                                if kk not in label_classs:\n",
        "                                                    label_classs.append(kk)\n",
        "                                            rttext_tags[sz]=zz\n",
        "                                            sintags[sz]=zz#[0:1]\n",
        "                                            eid_mapss[rid]=zz#[0:1]\n",
        "                                            eid_mapms[rid]=zz\n",
        "                                            rd_txts[rid]=sz\n",
        "                                            txt_rds[sz]=rid\n",
        "                                            rids=rids+1\n",
        "\n",
        "\n"
      ]
    },
    {
      "cell_type": "code",
      "execution_count": null,
      "metadata": {
        "id": "1nhEUG4U7kAM"
      },
      "outputs": [],
      "source": [
        ""
      ]
    },
    {
      "cell_type": "code",
      "execution_count": null,
      "metadata": {
        "id": "HRzSsrg0v-a0"
      },
      "outputs": [],
      "source": [
        ""
      ]
    },
    {
      "cell_type": "code",
      "execution_count": 3,
      "metadata": {
        "id": "OjpNDr3ZbqL6",
        "colab": {
          "base_uri": "https://localhost:8080/"
        },
        "outputId": "26f188f6-3d60-4101-90b4-5adcb896d7a1"
      },
      "outputs": [
        {
          "output_type": "stream",
          "name": "stdout",
          "text": [
            "2059\n"
          ]
        }
      ],
      "source": [
        "# Unique Tag list\n",
        "tagu=[]\n",
        "stt=[]\n",
        "\n",
        "for  sz in rttext_tag:\n",
        "           s=''\n",
        "           for vb in rttext_tag[sz]:\n",
        "               #if vb not in stt:\n",
        "                   s=str(vb)+\" \"+sz\n",
        "                   if s not in stt:\n",
        "                        stt.append(s)\n",
        "ds=set(stt)\n",
        "for kk in ds:\n",
        "    tagu.append(kk)\n",
        "print(len(tagu))\n",
        "for tt in tagu:\n",
        "    pass"
      ]
    },
    {
      "cell_type": "code",
      "execution_count": 10,
      "metadata": {
        "id": "ZVRG5kiIptkm"
      },
      "outputs": [],
      "source": [
        "#Tag Clustering using Agglomerative and K-means Clustering  4.25 10 3.25 5 3.00\n",
        "\n",
        "from sentence_transformers import SentenceTransformer\n",
        "from sklearn.cluster import KMeans\n",
        "from sentence_transformers import SentenceTransformer\n",
        "from sklearn.cluster import AgglomerativeClustering\n",
        "import numpy as np\n",
        "from sentence_transformers import SentenceTransformer\n",
        "from sklearn.cluster import KMeans\n",
        "from sentence_transformers import SentenceTransformer\n",
        "from sklearn.cluster import AgglomerativeClustering\n",
        "import numpy as np\n",
        "\n",
        "\n",
        "embedder = SentenceTransformer('all-distilroberta-v1')#('all-MiniLM-L12-v2')#('all-distilroberta-v1')#('all-MiniLM-L12-v2')\n",
        "# Corpus with example sentences\n",
        "corpus = tagu\n",
        "corpus_embeddings = embedder.encode(corpus)\n",
        "'''\n",
        "#num_clusters = 10\n",
        "\n",
        "# Normalize the embeddings to unit length\n",
        "corpus_embeddings = corpus_embeddings /  np.linalg.norm(corpus_embeddings, axis=1, keepdims=True)\n",
        "\n",
        "# Perform Agglomerative clustering\n",
        "clustering_model = AgglomerativeClustering(n_clusters=None,distance_threshold=2.0) #, affinity='cosine', linkage='average', distance_threshold=0.4)\n",
        "clustering_model.fit(corpus_embeddings)\n",
        "cluster_assignment,dis = clustering_model.labels_,clustering_model.distances_\n",
        "#print(dis)\n",
        "clustered_sentences = {}\n",
        "for sentence_id, cluster_id in enumerate(cluster_assignment):\n",
        "    if cluster_id not in clustered_sentences:\n",
        "        clustered_sentences[cluster_id] = []\n",
        "\n",
        "    clustered_sentences[cluster_id].append(corpus[sentence_id])\n",
        "final_clut={}\n",
        "for i, cluster in clustered_sentences.items():\n",
        "    if len(cluster)>=4:\n",
        "        final_clut[i]=cluster\n",
        "    #print(cluster[0])\n",
        "\n",
        "    #print(\"Cluster \", i+1)\n",
        "    #print(cluster)\n",
        "    #print(\"\")\n",
        "\n",
        "'''\n",
        "\n",
        "#Tag Clustering K-mEans\n",
        "\n",
        "# Normalize the embeddings to unit length\n",
        "\n",
        "corpus_embeddings = corpus_embeddings /  np.linalg.norm(corpus_embeddings, axis=1, keepdims=True)\n",
        "\n",
        "# Perform kmean clustering\n",
        "\n",
        "num_clusters=10\n",
        "clustering_model = KMeans(n_clusters=num_clusters)\n",
        "clustering_model.fit(corpus_embeddings)\n",
        "cluster_assignment = clustering_model.labels_\n",
        "\n",
        "clustered_sentences = [[] for i in range(num_clusters)]\n",
        "for sentence_id, cluster_id in enumerate(cluster_assignment):\n",
        "    clustered_sentences[cluster_id].append(corpus[sentence_id])\n",
        "#\n",
        "final_clut={}\n",
        "for i, cluster in enumerate(clustered_sentences):\n",
        "    #pass\n",
        "    #print(\"Cluster \", i+1)\n",
        "    #print(cluster)\n",
        "    #print(\"\")\n",
        "    final_clut[i]=cluster\n",
        "\n",
        "\n"
      ]
    },
    {
      "cell_type": "code",
      "execution_count": 11,
      "metadata": {
        "colab": {
          "base_uri": "https://localhost:8080/"
        },
        "id": "ah_Zi4ZN08L8",
        "outputId": "ac4fbc05-f6d0-48af-b95e-145224d80466"
      },
      "outputs": [
        {
          "output_type": "stream",
          "name": "stdout",
          "text": [
            "10\n"
          ]
        }
      ],
      "source": [
        "final_clut1={}\n",
        "for tt in final_clut:\n",
        "    ghh=[]\n",
        "    for kk in final_clut[tt]:\n",
        "        hh=kk.split()\n",
        "        #print(tt,hh[0])\n",
        "        ghh.append(hh[0])#(kk)#(hh[0])\n",
        "    if len(ghh)>0:\n",
        "        final_clut1[tt]=ghh\n",
        "print(len(final_clut1))"
      ]
    },
    {
      "cell_type": "code",
      "execution_count": null,
      "metadata": {
        "id": "qhSvBr2708hO"
      },
      "outputs": [],
      "source": [
        ""
      ]
    },
    {
      "cell_type": "code",
      "execution_count": 37,
      "metadata": {
        "colab": {
          "base_uri": "https://localhost:8080/"
        },
        "id": "u2F0jznClHk3",
        "outputId": "32edee3e-1b3f-45ca-864e-5f3cc4001bbe"
      },
      "outputs": [
        {
          "output_type": "stream",
          "name": "stdout",
          "text": [
            "926 45\n"
          ]
        }
      ],
      "source": [
        "# Re-assigning the labels \n",
        "\n",
        "import math\n",
        "import sys\n",
        "import random\n",
        "\n",
        "\n",
        "final_cluh={}\n",
        "rttext_tagh1={}\n",
        "rttext_tagh={}\n",
        "cc=0\n",
        "mptxt={}\n",
        "rttag={}\n",
        "allid=[]\n",
        "truhh=[]\n",
        "vbb=[]\n",
        "\n",
        "for vv in final_clut1:\n",
        "    bbb=[]\n",
        "    bbb1=[]\n",
        "    if len(final_clut1[vv])%2!=0:\n",
        "            lbb=random.choice(final_clut1[vv])\n",
        "            bbb.append(final_clut1[vv][math.ceil(len(final_clut[vv])/2)-1])\n",
        "            bbb1.append(lbb)\n",
        "            final_cluh[vv]=bbb#bbb#final_clu[vv][math.ceil(len(final_clu[vv])/2)-1]\n",
        "    elif len(final_clut[vv])%2==0:\n",
        "        lbb1=random.choice(final_clut1[vv])\n",
        "        bbb1.append(lbb1)\n",
        "        bbb.append(final_clut1[vv][math.ceil(len(final_clut[vv])/2)])\n",
        "        final_cluh[vv]=bbb#bbb#final_clu[vv][math.ceil(len(final_clu[vv])/2)]\n",
        "\n",
        "\n",
        "for kk in final_clut1:\n",
        "    for vz in rttext_tag:\n",
        "        ggh=[]\n",
        "        for zx in rttext_tag[vz]:\n",
        "            if zx in final_clut1[kk]:\n",
        "                #if zx not in ggh:\n",
        "                        ggh.append(zx)#(final_cluh[kk][0])#(final_clut1[kk][0])#(zx)#(final_clut1[kk][0])#(final_cluh[kk][0])\n",
        "                        #print(vz,zx)\n",
        "                        if cc<100:\n",
        "                            rttag[vz]=ggh\n",
        "                            cc=cc+1\n",
        "                        rttext_tagh1[vz]=ggh\n",
        "                        mptxt[txt_rd[vz]]=ggh\n",
        "                        #cc=cc+1\n",
        "                        #print(\"\\n\")\n",
        "                        break\n",
        "\n",
        "'''\n",
        "@RANDOM SELECTION\n",
        "\n",
        "'''\n",
        "#sys.exit()\n",
        "\n",
        "###########\n",
        "'''\n",
        "@RANDOM SELECTION\n",
        "\n",
        "'''\n",
        "\n",
        "for kk in rttext_tagh1:\n",
        "    if txt_rd[str(kk)] not in allid:\n",
        "        allid.append(txt_rd[str(kk)])\n",
        "\n",
        "\n",
        "for jj in range(0,4111):\n",
        "    bb=random.choice(allid)\n",
        "    rttext_tagh[rd_txt[bb]]=rttext_tagh1[rd_txt[bb]]\n",
        "\n",
        "\n",
        "for tt in rttext_tagh:\n",
        "    for kkk in rttext_tagh[tt]:\n",
        "        if kkk not in  vbb:\n",
        "            vbb.append(kkk)\n",
        "\n",
        "ss=set(vbb)\n",
        "\n",
        "for vv in ss:\n",
        "    truhh.append( vv)\n",
        "\n",
        "print(len(rttext_tagh),len(truhh))\n",
        "\n",
        "\n"
      ]
    },
    {
      "cell_type": "code",
      "source": [
        ""
      ],
      "metadata": {
        "id": "65ybH6rkDVub"
      },
      "execution_count": null,
      "outputs": []
    },
    {
      "cell_type": "code",
      "source": [
        "# Original Random Process (Without label pre-processing)\n",
        "import random\n",
        "\n",
        "allid=[]\n",
        "rttext_tagh={}\n",
        "cc=0\n",
        "truhh=[]\n",
        "vbb=[]\n",
        "\n",
        "for kk in rttext_tag:\n",
        "    if txt_rd[str(kk)] not in allid:\n",
        "        allid.append(txt_rd[str(kk)])\n",
        "\n",
        "\n",
        "\n",
        "for jj in range(0,6011):\n",
        "    bb=random.choice(allid)\n",
        "    rttext_tagh[rd_txt[bb]]=rttext_tag[rd_txt[bb]]\n",
        "\n",
        "\n",
        "for tt in rttext_tagh:\n",
        "    for kkk in rttext_tagh[tt]:\n",
        "        if kkk not in  vbb:\n",
        "            vbb.append(kkk)\n",
        "ss=set(vbb)\n",
        "for vv in ss:\n",
        "    truhh.append( vv)\n",
        "\n",
        "print(len(rttext_tagh),len(truhh))\n"
      ],
      "metadata": {
        "colab": {
          "base_uri": "https://localhost:8080/"
        },
        "id": "9uKO8WMP2RUK",
        "outputId": "a546b085-ad63-498e-9d03-db59aa8c9f08"
      },
      "execution_count": 32,
      "outputs": [
        {
          "output_type": "stream",
          "name": "stdout",
          "text": [
            "943 90\n"
          ]
        }
      ]
    },
    {
      "cell_type": "code",
      "execution_count": null,
      "metadata": {
        "colab": {
          "base_uri": "https://localhost:8080/"
        },
        "id": "h0BSLTqwsb1a",
        "outputId": "802ff123-2d3a-4b09-e649-d068e8a80ef6"
      },
      "outputs": [
        {
          "output_type": "stream",
          "name": "stderr",
          "text": [
            "No model was supplied, defaulted to facebook/bart-large-mnli (https://huggingface.co/facebook/bart-large-mnli)\n"
          ]
        }
      ],
      "source": [
        "#Accuracy Computation\n",
        "\n",
        "#multi tag\n",
        "\n",
        "from transformers import AutoModelForSequenceClassification, AutoTokenizer\n",
        "import numpy as np\n",
        "import operator\n",
        "import matplotlib.pyplot as plt\n",
        "from transformers import pipeline\n",
        "from pylab import rcParams\n",
        "import sys \n",
        "import nltk\n",
        "import re\n",
        "import operator\n",
        "#from transformers_interpret import ZeroShotClassificationExplainer\n",
        "zero_shot_classifier = pipeline(\"zero-shot-classification\")#,model='roberta-large-mnli')#model='facebook/bart-large-mnli')#,model='Recognai/zeroshot_selectra_medium')#,model='facebook/bart-large-mnli')\n",
        "#tokenizer = AutoTokenizer.from_pretrained(\"Recognai/zeroshot_selectra_medium\")#(\"facebook/bart-base-mnli\")#(\"Recognai/zeroshot_selectra_medium\")\n",
        "#model = AutoModelForSequenceClassification.from_pretrained(\"Recognai/zeroshot_selectra_medium\")#(\"facebook/bart-base-mnli\")#(\"Recognai/zeroshot_selectra_medium\")\n",
        "#zero_shot_explainer = ZeroShotClassificationExplainer(model, tokenizer)\n",
        "\n",
        "cn=0\n",
        "txt_lbp={}\n",
        "ocl_di={}\n",
        "pred_l={}\n",
        "ocl_dia={}\n",
        "pred_lnk={}\n",
        "ocl_dnk={}\n",
        "pred_tk={}\n",
        "ocl_tk={}\n",
        "all_txt_label_score={}\n",
        "all_txt_label_rank={}\n",
        "\n",
        "# Zero-shot Classification\n",
        "def review_explain(text):\n",
        "        result = zero_shot_classifier(sequences =text,candidate_labels =truhh ,multi_label=True)\n",
        "        \n",
        "        return result['labels'],result['scores']\n",
        "\n",
        "\n",
        "\n",
        "\n",
        "\n",
        "\n",
        "for tt in rttext_tagh:\n",
        "      mpd={}\n",
        "      nlb=[]\n",
        "      mpd_nk={}\n",
        "      mpd_tk={}\n",
        "      nlb_tk=[]\n",
        "      nlb_nk=[]\n",
        "      rn={}\n",
        "      rsc={}\n",
        "      clas,score= review_explain(tt)\n",
        "   \n",
        "      for bb in range(0,len(clas)):\n",
        "          rsc[clas[bb]]=score[bb]\n",
        "      for bb in range(0,len(clas)):\n",
        "          rn[clas[bb]]=bb+1\n",
        "      all_txt_label_score[tt]=rsc\n",
        "      all_txt_label_rank[tt]=rn\n",
        "      for k1 in rttext_tagh[tt]:\n",
        "            for t3 in range(0,len(clas)):\n",
        "                if str(clas[t3])==str(k1):\n",
        "                    mpd[k1]=score[t3]\n",
        "      for k1 in rttext_tagh[tt]:\n",
        "            for t3 in range(0,len(clas)):\n",
        "                if str(clas[t3])!=str(k1):\n",
        "                    if score[t3]>0.5:\n",
        "                        mpd_nk[k1]=score[t3]\n",
        "      for k1 in rttext_tagh[tt]:\n",
        "            for t3 in range(0,len(clas)):\n",
        "                if str(clas[t3])==str(k1):\n",
        "                    if score[t3]>0.5:\n",
        "                        mpd_tk[k1]=score[t3]\n",
        "      \n",
        "      dd=sorted(mpd.items(), key=operator.itemgetter(1),reverse=True)\n",
        "      dd1=sorted(mpd_nk.items(), key=operator.itemgetter(1),reverse=True)\n",
        "      dd2=sorted(mpd_tk.items(), key=operator.itemgetter(1),reverse=True)\n",
        "      \n",
        "      for zz in dd:\n",
        "          nlb.append(zz[0])\n",
        "      for zz1 in dd1:\n",
        "          nlb_nk.append(zz1[0])\n",
        "      for zz2 in dd2:\n",
        "          nlb_tk.append(zz2[0])\n",
        "      \n",
        "      pred_lnk[tt]=nlb_nk #ranked list of the non-original labels has pribability greater than 50%\n",
        "      pred_tk[tt]=nlb_tk#ranked list of the original labels has pribability greater than and equal 90% and appear in top N labels\n",
        "      ocl_di[tt]=nlb[0:1]#single label with the highest score of the original label\n",
        "      ocl_dia[tt]=nlb#ranked list of the original label\n",
        "      \n",
        "\n",
        "      txt_lbp[tt]=clas[0:10]\n",
        "      pred_l[tt]=clas\n",
        "      \n",
        "     \n",
        "\n",
        "\n",
        "\n",
        "\n",
        "\n",
        "\n",
        "\n",
        "'''\n",
        "Comparing average rank of the predicted original labels with that of it ideal rank positon\n",
        "Coounting the number of non-original labels that have higher probability scores than that of original labels per text\n",
        "\n",
        "'''\n",
        "# average rank\n",
        "ccc=0\n",
        "KK=3 # number of top predicted non-original labels\n",
        "\n",
        "per_txt_ori_rank_cmp={}\n",
        "per_txt_ori_score_avg={}\n",
        "per_txt_nonori_rank_cmp={}\n",
        "per_txt_nonori_pred_rank_avg={}\n",
        "per_txt_nonori_ori_rank_avg={}\n",
        "per_txt_nonori_score_avg={}\n",
        "per_txt_ori_pred_rank_avg={}\n",
        "per_txt_ori_ori_rank_avg={}\n",
        "per_txt_nonori_top_n={}\n",
        "\n",
        "\n",
        "for v in all_txt_label_score:\n",
        "  if v in rttext_tagh:\n",
        "    orn=(len(rttext_tagh[v])+1)/2 # Ideal average rank position\n",
        "    s=0\n",
        "    sc=0\n",
        "    cz=0\n",
        "    nr=[]\n",
        "    sno=0\n",
        "    snosc=0\n",
        "    for kz in all_txt_label_rank[v]:\n",
        "        if kz not in rttext_tagh[v]:\n",
        "            if cz<KK:\n",
        "                     if kz not in nr:\n",
        "                            nr.append(kz)\n",
        "                            #print(kz,rttext_tagu[v],all_txt_label_rank[v][kz],all_txt_label_score[v][kz])\n",
        "                            sno=sno+float(all_txt_label_rank[v][kz])\n",
        "                            snosc=snosc+float(all_txt_label_score[v][kz])\n",
        "                            cz=cz+1\n",
        "    #print(\"\\n\")\n",
        "    per_txt_nonori_top_n[v]=nr\n",
        "    per_txt_nonori_rank_cmp[v]=sno/KK\n",
        "    per_txt_nonori_score_avg[v]=snosc/KK\n",
        "\n",
        "    for kz in all_txt_label_rank[v]:\n",
        "        if kz in rttext_tagh[v]:\n",
        "            s=s+float(all_txt_label_rank[v][kz])\n",
        "            sc=sc+float(all_txt_label_score[v][kz])\n",
        "    prn=s/len(rttext_tagh[v])\n",
        "    per_txt_ori_score_avg[v]=sc/len(rttext_tagh[v])\n",
        "    per_txt_ori_pred_rank_avg[v]=prn\n",
        "    per_txt_ori_ori_rank_avg[v]=orn\n",
        "   # print(prn)\n",
        "    dif=abs(prn-orn)\n",
        "    per_txt_ori_rank_cmp[v]=dif\n",
        "    if dif<=0.0:\n",
        "        ccc=ccc+1\n",
        "print(\"Number of texts where the position of the original labels preserved after prediction\")\n",
        "print(ccc)\n",
        "print(\"Percentage of texts where the position of the original labels preserved after prediction\")\n",
        "print(ccc/len(txt_lbp))\n",
        "\n",
        "\n",
        "# average scores\n",
        "\n",
        "vvv=0\n",
        "for jj in per_txt_ori_score_avg:\n",
        "    if per_txt_nonori_score_avg[jj]>per_txt_ori_score_avg[jj]:\n",
        "                vvv=vvv+1\n",
        "\n",
        "print(\"Number of non-original labels have higher prediction acores than original labels after prediction\")\n",
        "               \n",
        "print(vvv)\n",
        "\n",
        "'''\n",
        "Accuracy for the clustered labels\n",
        "'''\n",
        "#accuracy of multi-level classification with k-means clustering\n",
        "def topps(n):\n",
        "            cc=0\n",
        "            vb1=0\n",
        "            for tt in txt_lbp:\n",
        "                    #if vb1 < 1000:\n",
        "                            #vb1=vb1+1 \n",
        "                            try:\n",
        "                                for vb in txt_lbp[tt][0:n]:\n",
        "                                        #print(rttext_tagh[tt][0],vb)\n",
        "                                        if vb in rttext_tagh[tt][0:n]:\n",
        "                                        #if str(vb) ==str(rttext_tagh[tt][0]):\n",
        "                                            cc=cc+1\n",
        "                                            break\n",
        "                                        else:\n",
        "                                            continue\n",
        "\n",
        "                            except:\n",
        "                                continue\n",
        "                            \n",
        "            #txt_lbp\n",
        "            print(\"Top_\"+str(n)+ \" Prediction Score: \")\n",
        "            print(cc/len(txt_lbp))\n",
        "top=3\n",
        "for zz in range(1,top+1):\n",
        "    topps(zz)\n",
        "\n",
        "\n"
      ]
    },
    {
      "cell_type": "code",
      "source": [
        "len(rttext_tagh),len(truhh)"
      ],
      "metadata": {
        "id": "ZcSiW2d99kVP",
        "colab": {
          "base_uri": "https://localhost:8080/"
        },
        "outputId": "31971c61-c791-4906-a2cd-0fa4f56d2217"
      },
      "execution_count": null,
      "outputs": [
        {
          "output_type": "execute_result",
          "data": {
            "text/plain": [
              "(189, 2)"
            ]
          },
          "metadata": {},
          "execution_count": 61
        }
      ]
    },
    {
      "cell_type": "code",
      "source": [
        "With label clustering . here 5 cluster of labels for 2 unique labels  with 182 texts\n",
        "Number of texts where the position of the original labels preserved after prediction\n",
        "123\n",
        "Percentage of texts where the position of the original labels preserved after prediction\n",
        "0.6758241758241759\n",
        "Number of non-original labels have higher prediction acores than original labels after prediction\n",
        "40\n",
        "Top_1 Prediction Score: \n",
        "0.6758241758241759\n",
        "Top_2 Prediction Score: \n",
        "1.0\n",
        "Top_3 Prediction Score: \n",
        "1.0\n",
        "\n",
        "\n",
        "With label clustering . here 25 cluster of labels for 6 unique labels  with 187 texts\n",
        "Number of texts where the position of the original labels preserved after prediction\n",
        "86\n",
        "Percentage of texts where the position of the original labels preserved after prediction\n",
        "0.45989304812834225\n",
        "Number of non-original labels have higher prediction acores than original labels after prediction\n",
        "70\n",
        "Top_1 Prediction Score: \n",
        "0.45989304812834225\n",
        "Top_2 Prediction Score: \n",
        "0.6951871657754011\n",
        "Top_3 Prediction Score: \n",
        "0.7379679144385026\n",
        "\n",
        "\n",
        "\n",
        "\n",
        "\n",
        "\n",
        "\n",
        "\n",
        "'''\n",
        "\n",
        "\n",
        "\n",
        "\n",
        "\n",
        "\n",
        "\n",
        "With label clustering . here 5 cluster of labels for 3 unique labels  with 100 texts\n",
        "\n",
        "\n",
        "Number of texts where the position of the original labels preserved after prediction\n",
        "63\n",
        "Percentage of texts where the position of the original labels preserved after prediction\n",
        "0.5833333333333334\n",
        "Number of non-original labels have higher prediction acores than original labels after prediction\n",
        "33\n",
        "Top_1 Prediction Score: \n",
        "0.5833333333333334\n",
        "Top_2 Prediction Score: \n",
        "0.7314814814814815\n",
        "Top_3 Prediction Score: \n",
        "1.0\n",
        "\n",
        "With label clustering . here 5 cluster of labels for 2 unique labels  with 100 texts\n",
        "Number of texts where the position of the original labels preserved after prediction\n",
        "75\n",
        "Percentage of texts where the position of the original labels preserved after prediction\n",
        "0.7281553398058253\n",
        "Number of non-original labels have higher prediction acores than original labels after prediction\n",
        "23\n",
        "Top_1 Prediction Score: \n",
        "0.7281553398058253\n",
        "Top_2 Prediction Score: \n",
        "1.0\n",
        "\n",
        "\n",
        "Without label clustering .  for 37 unique labels  with 100 texts\n",
        "Number of texts where the position of the original labels preserved after prediction\n",
        "23\n",
        "Percentage of texts where the position of the original labels preserved after prediction\n",
        "0.22115384615384615\n",
        "Number of non-original labels have higher prediction acores than original labels after prediction\n",
        "60\n",
        "Top_1 Prediction Score: \n",
        "0.25961538461538464\n",
        "Top_2 Prediction Score: \n",
        "0.7692307692307693\n",
        "Top_3 Prediction Score: \n",
        "0.8173076923076923\n",
        "\n",
        "\n",
        "'''"
      ],
      "metadata": {
        "id": "5tpGYYII9ksK"
      },
      "execution_count": null,
      "outputs": []
    },
    {
      "cell_type": "code",
      "source": [
        "# Ploting the figures\n",
        "\n",
        "import matplotlib.pyplot as plt\n",
        "nri=[]\n",
        "ori=[]\n",
        "for jj in per_txt_ori_score_avg:\n",
        "     nri.append(per_txt_ori_pred_rank_avg[jj])\n",
        "     ori.append(per_txt_ori_ori_rank_avg[jj])\n",
        "\n",
        "Geb_b30 = nri\n",
        "years_b30 = range(0,len(nri))\n",
        "Geb_a30 = ori\n",
        "years_a30 = range(0,len(ori))\n",
        "\n",
        "fig, ax = plt.subplots()\n",
        "ax.plot(years_b30, Geb_b30, label='Predicted_Oiginal_label_Position', color='blue')\n",
        "ax.plot(years_a30, Geb_a30, label='Ideal_Oiginal_label_Position', color = 'red')\n",
        "legend = ax.legend(loc='upper left', fontsize='x-large')\n",
        "plt.xlabel('Random 100 Texts')\n",
        "plt.ylabel('Average_Rank')\n",
        "plt.title('Deviation of Position After Zero-Shot Prediction')\n",
        "plt.show()\n",
        "plt.savefig(\"Deviation of Position.pdf\")"
      ],
      "metadata": {
        "colab": {
          "base_uri": "https://localhost:8080/",
          "height": 313
        },
        "id": "ux812M861WB2",
        "outputId": "79b2f84f-2063-4bfe-f9e6-21db6a305b43"
      },
      "execution_count": null,
      "outputs": [
        {
          "output_type": "display_data",
          "data": {
            "image/png": "[encoded data removed]",
            "text/plain": [
              "<Figure size 432x288 with 1 Axes>"
            ]
          },
          "metadata": {
            "needs_background": "light"
          }
        },
        {
          "output_type": "display_data",
          "data": {
            "text/plain": [
              "<Figure size 432x288 with 0 Axes>"
            ]
          },
          "metadata": {}
        }
      ]
    },
    {
      "cell_type": "code",
      "execution_count": null,
      "metadata": {
        "id": "26gRhEqlrCZP"
      },
      "outputs": [],
      "source": [
        "# Drawong\n",
        "\n",
        "# Rank\n",
        "\n",
        "\n",
        "\n",
        "# Score\n",
        "nri=[]\n",
        "ori=[]\n",
        "for jj in per_txt_ori_score_avg:\n",
        "     #print(per_txt_ori_ori_rank_avg[jj],per_txt_ori_pred_rank_avg[jj])\n",
        "     nri.append(per_txt_nonori_score_avg[jj])\n",
        "     ori.append(per_txt_ori_score_avg[jj])\n",
        "import matplotlib.pyplot as plt\n",
        "\n",
        "Geb_b30 = nri#[11, 10, 12, 14, 16, 19, 17, 14, 18, 17]\n",
        "years_b30 = range(0,len(nri))\n",
        "Geb_a30 = ori#[12, 10, 13, 14, 12, 13, 18, 16,0,0]\n",
        "years_a30 = range(0,len(ori))\n",
        "\n",
        "fig, ax = plt.subplots()\n",
        "ax.plot(years_b30, Geb_b30, label='Non-original-label', color='blue')\n",
        "ax.plot(years_a30, Geb_a30, label='Original-label', color = 'red')\n",
        "legend = ax.legend(loc='lower right', fontsize='x-large')\n",
        "plt.xlabel('Random_based 100 Texts')\n",
        "plt.ylabel('Average_Score')\n",
        "plt.title('Comparison of the Original-labels and Non-original-labels Regarding Average Probability Scores')\n",
        "plt.show()\n",
        "plt.savefig(\"Average_Score_Random_100_Texts_With 14 cluster of tags.pdf\")\n",
        "\n",
        "\n",
        "\n"
      ]
    },
    {
      "cell_type": "code",
      "execution_count": null,
      "metadata": {
        "id": "o3pXgB_brCga"
      },
      "outputs": [],
      "source": [
        ""
      ]
    },
    {
      "cell_type": "code",
      "execution_count": null,
      "metadata": {
        "id": "D51SKmmUp0Cj"
      },
      "outputs": [],
      "source": [
        "# Text Clustering\n",
        "sente=[]\n",
        "mp_t={}\n",
        "for  sz in rttext_tagh1:\n",
        "           # print(rttext_tagh1[sz])\n",
        "            sente.append(sz)\n",
        "            #mp_t[sz]=vv"
      ]
    },
    {
      "cell_type": "code",
      "execution_count": null,
      "metadata": {
        "colab": {
          "base_uri": "https://localhost:8080/"
        },
        "id": "Z1OIgU8fp0F2",
        "outputId": "fad268c4-e89e-49a3-bc8a-fc16df659648"
      },
      "outputs": [
        {
          "output_type": "execute_result",
          "data": {
            "text/plain": [
              "1079"
            ]
          },
          "metadata": {},
          "execution_count": 649
        }
      ],
      "source": [
        "len(sente)"
      ]
    },
    {
      "cell_type": "code",
      "execution_count": null,
      "metadata": {
        "colab": {
          "base_uri": "https://localhost:8080/",
          "height": 105
        },
        "id": "xiYgpJ_oWwjI",
        "outputId": "3b15bad8-78ce-476b-c10d-e2b6a1b2fd47"
      },
      "outputs": [
        {
          "output_type": "stream",
          "name": "stdout",
          "text": [
            "16\n"
          ]
        },
        {
          "output_type": "execute_result",
          "data": {
            "application/vnd.google.colaboratory.intrinsic+json": {
              "type": "string"
            },
            "text/plain": [
              "'\\n# Perform kmean clustering\\nnum_clusters =10\\nclustering_model = KMeans(n_clusters=num_clusters)\\nclustering_model.fit(corpus_embeddings)\\ncluster_assignment = clustering_model.labels_\\n\\nclustered_sentences = [[] for i in range(num_clusters)]\\nfor sentence_id, cluster_id in enumerate(cluster_assignment):\\n    clustered_sentences[cluster_id].append(corpus[sentence_id])\\n#\\nfinal_clu={}\\nfor i, cluster in enumerate(clustered_sentences):\\n    \\n    print(\"Cluster \", i+1)\\n    print(cluster)\\n    print(\"\")\\n    final_clu[i]=cluster\\n'"
            ]
          },
          "metadata": {},
          "execution_count": 685
        }
      ],
      "source": [
        "\n",
        "from sentence_transformers import SentenceTransformer\n",
        "from sklearn.cluster import KMeans\n",
        "from sentence_transformers import SentenceTransformer\n",
        "from sklearn.cluster import AgglomerativeClustering\n",
        "import numpy as np\n",
        "\n",
        "embedder = SentenceTransformer('all-distilroberta-v1')#('all-MiniLM-L12-v2')\n",
        "\n",
        "# Corpus with example sentences\n",
        "corpus = sente\n",
        "corpus_embeddings = embedder.encode(corpus)\n",
        "num_clusters = 10\n",
        "# Normalize the embeddings to unit length\n",
        "corpus_embeddings = corpus_embeddings /  np.linalg.norm(corpus_embeddings, axis=1, keepdims=True)\n",
        "\n",
        "# Perform Agglomerative clustering\n",
        "clustering_model = AgglomerativeClustering(n_clusters=None,distance_threshold=2.50) #, affinity='cosine', linkage='average', distance_threshold=0.4)\n",
        "clustering_model.fit(corpus_embeddings)\n",
        "cluster_assignment,dis = clustering_model.labels_,clustering_model.distances_\n",
        "#print(dis)\n",
        "clustered_sentences = {}\n",
        "for sentence_id, cluster_id in enumerate(cluster_assignment):\n",
        "    if cluster_id not in clustered_sentences:\n",
        "        clustered_sentences[cluster_id] = []\n",
        "\n",
        "    clustered_sentences[cluster_id].append(corpus[sentence_id])\n",
        "final_clu={}\n",
        "for i, cluster in clustered_sentences.items():\n",
        "    if len(cluster)>=30:\n",
        "            final_clu[i]=cluster\n",
        "   # print(\"Cluster \", i+1)\n",
        "    #print(cluster)\n",
        "    #print(\"\")\n",
        "print(len(final_clu))\n",
        "'''\n",
        "# Perform kmean clustering\n",
        "num_clusters =10\n",
        "clustering_model = KMeans(n_clusters=num_clusters)\n",
        "clustering_model.fit(corpus_embeddings)\n",
        "cluster_assignment = clustering_model.labels_\n",
        "\n",
        "clustered_sentences = [[] for i in range(num_clusters)]\n",
        "for sentence_id, cluster_id in enumerate(cluster_assignment):\n",
        "    clustered_sentences[cluster_id].append(corpus[sentence_id])\n",
        "#\n",
        "final_clu={}\n",
        "for i, cluster in enumerate(clustered_sentences):\n",
        "    \n",
        "    print(\"Cluster \", i+1)\n",
        "    print(cluster)\n",
        "    print(\"\")\n",
        "    final_clu[i]=cluster\n",
        "'''\n"
      ]
    },
    {
      "cell_type": "code",
      "source": [
        ""
      ],
      "metadata": {
        "id": "e2kKbijO8xx1"
      },
      "execution_count": null,
      "outputs": []
    },
    {
      "cell_type": "code",
      "execution_count": null,
      "metadata": {
        "colab": {
          "base_uri": "https://localhost:8080/"
        },
        "id": "ovHk93bIcpCu",
        "outputId": "5a3e5bad-316f-4221-f8e4-81bf047cbf4f"
      },
      "outputs": [
        {
          "output_type": "stream",
          "name": "stdout",
          "text": [
            "cluster number: 5\n",
            "41\n",
            "3 41\n"
          ]
        }
      ],
      "source": [
        "#bert based clustering mapping\n",
        "'''\n",
        "rd_txt[rid]=sz\n",
        "txt_rd[sz]=rid\n",
        "'''\n",
        "import sys\n",
        "final_clu1={}\n",
        "gg=[]\n",
        "for zz in final_clu:\n",
        "        gh=[]\n",
        "        gg.append(zz)\n",
        "        for hh in final_clu[zz]:\n",
        "              if txt_rd[hh] not in gh:\n",
        "                  gh.append(txt_rd[hh])\n",
        "        final_clu1[zz]=gh\n",
        "\n",
        "rttext_tagh={}\n",
        "import random\n",
        "kk=random.choice(gg)\n",
        "print(\"cluster number: \"+str(kk))\n",
        "vz=0\n",
        "for bb in final_clu1[kk]:\n",
        "     if rd_txt[bb]  in rttext_tagh1:\n",
        "         #print(rttext_tag[rd_txt[bb]])\n",
        "         #if vz<100:\n",
        "                rttext_tagh[rd_txt[bb]]=rttext_tagh1[rd_txt[bb]]\n",
        "                vz=vz+1\n",
        "print(len(rttext_tagh))\n",
        "\n",
        "truhh=[]\n",
        "ss=[]\n",
        "\n",
        "for k in rttext_tagh:\n",
        "    for jj in rttext_tagh[k]:\n",
        "        if jj not in ss:\n",
        "            ss.append(jj)\n",
        "s=set(ss)\n",
        "for k in s:\n",
        "    truhh.append(k)\n",
        "print(len(truhh),len(rttext_tagh))"
      ]
    },
    {
      "cell_type": "code",
      "source": [
        "# per cluster top1 accuracy\n",
        "def zeroshot_cluster():\n",
        "        import sys\n",
        "        final_clu1={}\n",
        "        gg=[]   \n",
        "        #rttext_tagu={}\n",
        "        for zz in final_clu:\n",
        "                \n",
        "                gh=[]\n",
        "                gg.append(zz)\n",
        "                for hh in final_clu[zz]:\n",
        "                    if txt_rd[hh] not in gh:\n",
        "                        gh.append(txt_rd[hh])\n",
        "                final_clu1[zz]=gh\n",
        "        print(\"cluster number\")\n",
        "        print(len(final_clu1))\n",
        "        for kk in final_clu1:\n",
        "                print(\"cluster number: \"+str(kk))\n",
        "                vz=0\n",
        "                rttext_tagu={}\n",
        "                for bb in final_clu1[kk]:\n",
        "                    if rd_txt[bb]  in rttext_tagh1:\n",
        "                        #print(rttext_tag[rd_txt[bb]])\n",
        "                        #if vz<100:\n",
        "                                rttext_tagu[rd_txt[bb]]=rttext_tagh1[rd_txt[bb]]\n",
        "                #number of labels per model\n",
        "                tru=[]\n",
        "                ss=[]\n",
        "                for k in rttext_tagu:\n",
        "                    for jj in rttext_tagu[k]:\n",
        "                        if jj not in ss:\n",
        "                            ss.append(jj)\n",
        "                s=set(ss)\n",
        "                for k in s:\n",
        "                    tru.append(k)\n",
        "                print(len(tru),len(rttext_tagu))\n",
        "                # new check with the clustered texts\n",
        "\n",
        "                #multi tag\n",
        "                #from AltZSC import ZeroShotTextClassification\n",
        "                #zstc = ZeroShotTextClassification()\n",
        "                from transformers import AutoModelForSequenceClassification, AutoTokenizer\n",
        "                import numpy as np\n",
        "                import operator\n",
        "                import matplotlib.pyplot as plt\n",
        "                from transformers import pipeline\n",
        "                from pylab import rcParams\n",
        "                import sys \n",
        "                import nltk\n",
        "                import re\n",
        "                #from transformers_interpret import ZeroShotClassificationExplainer\n",
        "                zero_shot_classifier = pipeline(\"zero-shot-classification\")#,model='roberta-large-mnli')#model='facebook/bart-large-mnli')#,model='Recognai/zeroshot_selectra_medium')#,model='facebook/bart-large-mnli')\n",
        "                #tokenizer = AutoTokenizer.from_pretrained(\"Recognai/zeroshot_selectra_medium\")#(\"facebook/bart-base-mnli\")#(\"Recognai/zeroshot_selectra_medium\")\n",
        "                #model = AutoModelForSequenceClassification.from_pretrained(\"Recognai/zeroshot_selectra_medium\")#(\"facebook/bart-base-mnli\")#(\"Recognai/zeroshot_selectra_medium\")\n",
        "                #zero_shot_explainer = ZeroShotClassificationExplainer(model, tokenizer)\n",
        "                vv4=[]\n",
        "                for k in  rttext_tag:\n",
        "                    for bb in  rttext_tag[k]:\n",
        "                        if bb not in vv4:\n",
        "                            vv4.append(bb)\n",
        "\n",
        "                ss=set(vv4)#(label_class)\n",
        "                tr=[]\n",
        "\n",
        "                for k in ss:\n",
        "                    tr.append(k)\n",
        "                def review_explain(text):\n",
        "                        result = zero_shot_classifier(sequences =text,candidate_labels=tru,multi_label=False)\n",
        "                        \n",
        "                        return result['labels'],result['scores']\n",
        "                        \n",
        "                        #preds = zstc(text=text,candidate_labels=tru,)\n",
        "                            \n",
        "                        #print(list(preds['labels']),list(preds['scores']))\n",
        "                        #return list(preds['labels']),list(preds['scores'])\n",
        "                    \n",
        "            \n",
        "                    \n",
        "                #class,score= review_explain(text)\n",
        "\n",
        "                cn=0\n",
        "                txt_lbp={}\n",
        "                ocl_di={}\n",
        "                pred_l={}\n",
        "                ocl_dia={}\n",
        "                pred_lnk={}\n",
        "                ocl_dnk={}\n",
        "                pred_tk={}\n",
        "                ocl_tk={}\n",
        "                all_txt_label_score={}\n",
        "                all_txt_label_rank={}\n",
        "                for tt in rttext_tagu:\n",
        "                #print(tt,rttext_tag[tt])\n",
        "                #print(\"\\n\\n\")\n",
        "                 #if cn<len(rttext_tagu):\n",
        "                    mpd={}\n",
        "                    nlb=[]\n",
        "                    mpd_nk={}\n",
        "                    mpd_tk={}\n",
        "                    nlb_tk=[]\n",
        "                    nlb_nk=[]\n",
        "                    rn={}\n",
        "                    rsc={}\n",
        "                    #try:\n",
        "                    clas,score= review_explain(tt)\n",
        "                    #except:\n",
        "                        #continue \n",
        "                    #print(score)\n",
        "                    for bb in range(0,len(clas)):\n",
        "                        rsc[clas[bb]]=score[bb]\n",
        "                    for bb in range(0,len(clas)):\n",
        "                        rn[clas[bb]]=bb+1\n",
        "                    all_txt_label_score[tt]=rsc\n",
        "                    all_txt_label_rank[tt]=rn\n",
        "\n",
        "\n",
        "                    for k1 in rttext_tagu[tt]:\n",
        "                            for t3 in range(0,len(clas)):\n",
        "                                if str(clas[t3])==str(k1):\n",
        "                                    mpd[k1]=score[t3]\n",
        "                    for k1 in rttext_tagu[tt]:\n",
        "                            for t3 in range(0,len(clas)):\n",
        "                                if str(clas[t3])!=str(k1):\n",
        "                                    if score[t3]>0.5:\n",
        "                                        mpd_nk[k1]=score[t3]\n",
        "                    for k1 in rttext_tagu[tt]:\n",
        "                            for t3 in range(0,len(clas)):\n",
        "                                if str(clas[t3])==str(k1):\n",
        "                                    if score[t3]>0.5:\n",
        "                                        mpd_tk[k1]=score[t3]\n",
        "                    import operator\n",
        "                    dd=sorted(mpd.items(), key=operator.itemgetter(1),reverse=True)\n",
        "                    dd1=sorted(mpd_nk.items(), key=operator.itemgetter(1),reverse=True)\n",
        "                    dd2=sorted(mpd_tk.items(), key=operator.itemgetter(1),reverse=True)\n",
        "                    #pred_lnk={}\n",
        "                    #ocl_dnk={}\n",
        "                    for zz in dd:\n",
        "                        nlb.append(zz[0])\n",
        "                    for zz1 in dd1:\n",
        "                        nlb_nk.append(zz1[0])\n",
        "                    for zz2 in dd2:\n",
        "                        nlb_tk.append(zz2[0])\n",
        "                    #print(nlb)\n",
        "                    #print(nlb[0:-1])\n",
        "                    pred_lnk[tt]=nlb_nk #ranked list of the non-original labels has pribability greater than 50%\n",
        "                    pred_tk[tt]=nlb_tk#ranked list of the original labels has pribability greater than and equal 90% and appear in top N labels\n",
        "                    ocl_di[tt]=nlb[0:1]#single label with the highest score of the original label\n",
        "                    ocl_dia[tt]=nlb#ranked list of the original label\n",
        "                    \n",
        "\n",
        "                    txt_lbp[tt]=clas[0:10]\n",
        "                    pred_l[tt]=clas\n",
        "                    #print(clas[0:5],score[0:5],rttext_tag[tt])\n",
        "                    \n",
        "                    #cn=cn+1\n",
        "\n",
        "\n",
        "\n",
        "                #rttext_tagh=rttext_tagu\n",
        "               # len(rttext_tagh),len(txt_lbp)\n",
        "                #all_txt_label_score={}\n",
        "                #all_txt_label_rank={}\n",
        "                '''\n",
        "                For the clustered labels\n",
        "\n",
        "                '''\n",
        "                # average rank\n",
        "                ccc=0\n",
        "                KK=3\n",
        "\n",
        "                per_txt_ori_rank_cmp={}\n",
        "                per_txt_ori_score_avg={}\n",
        "\n",
        "                per_txt_nonori_rank_cmp={}\n",
        "                per_txt_nonori_pred_rank_avg={}\n",
        "                per_txt_nonori_ori_rank_avg={}\n",
        "                per_txt_nonori_score_avg={}\n",
        "\n",
        "                per_txt_ori_pred_rank_avg={}\n",
        "                per_txt_ori_ori_rank_avg={}\n",
        "\n",
        "                per_txt_nonori_top_n={}\n",
        "\n",
        "\n",
        "                for v in all_txt_label_score:\n",
        "                 if v in rttext_tagu:\n",
        "                    #print(all_txt_label_score[v])\n",
        "                    #print(all_txt_label_rank[v])\n",
        "                    #if len(rttext_tagu[v])>0: \n",
        "                    orn=(len(rttext_tagu[v])+1)/2#(len(rttext_tagh[v])+1)/2\n",
        "                    s=0\n",
        "                    sc=0\n",
        "                    cz=0\n",
        "                    nr=[]\n",
        "                    #print(v)\n",
        "                    sno=0\n",
        "                    snosc=0\n",
        "                    for kz in all_txt_label_rank[v]:\n",
        "                        if kz not in rttext_tagu[v]:\n",
        "                            if cz<KK:\n",
        "                                    if kz not in nr:\n",
        "                                            nr.append(kz)\n",
        "                                            #print(kz,rttext_tagu[v],all_txt_label_rank[v][kz],all_txt_label_score[v][kz])\n",
        "                                            sno=sno+float(all_txt_label_rank[v][kz])\n",
        "                                            snosc=snosc+float(all_txt_label_score[v][kz])\n",
        "                                            \n",
        "                                            cz=cz+1\n",
        "                    #print(\"\\n\")\n",
        "                    per_txt_nonori_top_n[v]=nr\n",
        "                    per_txt_nonori_rank_cmp[v]=sno/KK\n",
        "                    per_txt_nonori_score_avg[v]=snosc/KK\n",
        "\n",
        "                    for kz in all_txt_label_rank[v]:\n",
        "                        if kz in rttext_tagu[v]:\n",
        "                            s=s+all_txt_label_rank[v][kz]\n",
        "                            sc=sc+all_txt_label_score[v][kz]\n",
        "                    prn=s/len(rttext_tagu[v])\n",
        "                    per_txt_ori_score_avg[v]=sc/len(rttext_tagu[v])\n",
        "                    per_txt_ori_pred_rank_avg[v]=prn\n",
        "                    per_txt_ori_ori_rank_avg[v]=orn\n",
        "                # print(prn)\n",
        "                    dif=abs(prn-orn)\n",
        "                    per_txt_ori_rank_cmp[v]=dif\n",
        "                    if dif<=0.0:\n",
        "                        #print(v)\n",
        "                        #print(\"better\")\n",
        "                        \n",
        "                        ccc=ccc+1\n",
        "                    #print(sc/len(rttext_tagu[v]))\n",
        "                    #print(\"\\n\")\n",
        "                print(\"Percentage of the original labels keep the original labels\")\n",
        "                #print(ccc)\n",
        "                print(ccc/len(txt_lbp))\n",
        "                # average scores\n",
        "\n",
        "\n",
        "                '''\n",
        "                original\n",
        "                per_txt_ori_score_avg[v]=sc/len(rttext_tagu[v])\n",
        "                per_txt_ori_pred_rank_avg[v]=prn\n",
        "                per_txt_ori_ori_rank_avg[v]=orn\n",
        "                per_txt_ori_rank_cmp[v]=dif\n",
        "                '''\n",
        "                vvv=0\n",
        "                for jj in per_txt_ori_score_avg:\n",
        "                    if per_txt_nonori_score_avg[jj]>per_txt_ori_score_avg[jj]:\n",
        "                                vvv=vvv+1\n",
        "                            # print(per_txt_ori_score_avg[jj],per_txt_ori_pred_rank_avg[jj],per_txt_ori_ori_rank_avg[jj],per_txt_ori_rank_cmp[jj])\n",
        "                            # print(\"\\n\")\n",
        "                                #print(\"Non_Original\"+\"\\n\")\n",
        "                            # print(per_txt_nonori_top_n[jj],per_txt_nonori_rank_cmp[jj],per_txt_nonori_score_avg[jj])\n",
        "                            # print(\"\\n\\n\")\n",
        "\n",
        "                '''\n",
        "                per_txt_nonori_top_n[v]=nr\n",
        "                    per_txt_nonori_rank_cmp[v]=sno/KK\n",
        "                    per_txt_nonori_score_avg[v]=snosc/KK\n",
        "\n",
        "                '''\n",
        "                print(\"Number of predicted non-orogonalabel has higher prediction score\")\n",
        "                print(vvv,len(txt_lbp))\n",
        "                #rttext_tagh=rttext_tagu\n",
        "                '''\n",
        "                Accuracy for the clustered labels\n",
        "                '''\n",
        "                #accuracy of multi-level classification with k-means clustering\n",
        "                cc=0\n",
        "                vb1=0\n",
        "                for tt in txt_lbp:\n",
        "                        #if vb1 < 1000:\n",
        "                                #vb1=vb1+1 \n",
        "                                try:\n",
        "                                    for vb in txt_lbp[tt][0:1]:\n",
        "                                            #print(rttext_tagh[tt][0],vb)\n",
        "                                            if str(vb) ==str(rttext_tagu[tt][0]):\n",
        "                                                cc=cc+1\n",
        "                                                break\n",
        "                                            else:\n",
        "                                                continue\n",
        "\n",
        "                                except:\n",
        "                                    continue\n",
        "                                \n",
        "                #txt_lbp\n",
        "                top1=cc/len(txt_lbp)\n",
        "                #print(cc/len(txt_lbp))\n",
        "                '''\n",
        "                Accuracy for the clustered labels\n",
        "                '''\n",
        "                #accuracy of multi-level classification with k-means clustering\n",
        "                cc=0\n",
        "                vb1=0\n",
        "                for tt in txt_lbp:\n",
        "                        #if vb1 < 1000:\n",
        "                                #vb1=vb1+1 \n",
        "                                try:\n",
        "                                    for vb in txt_lbp[tt][0:2]:\n",
        "                                            #print(rttext_tagh[tt][0],vb)\n",
        "                                            if str(vb) ==str(rttext_tagu[tt][0]):\n",
        "                                                cc=cc+1\n",
        "                                                break\n",
        "                                            else:\n",
        "                                                continue\n",
        "\n",
        "                                except:\n",
        "                                    continue\n",
        "                                \n",
        "                #txt_lbp\n",
        "                top2=cc/len(txt_lbp)\n",
        "                #print(cc/len(txt_lbp))\n",
        "                '''\n",
        "                Accuracy for the clustered labels\n",
        "                '''\n",
        "                #accuracy of multi-level classification with k-means clustering\n",
        "                cc=0\n",
        "                vb1=0\n",
        "                for tt in txt_lbp:\n",
        "                        #if vb1 < 1000:\n",
        "                                #vb1=vb1+1 \n",
        "                                try:\n",
        "                                    for vb in txt_lbp[tt][0:3]:\n",
        "                                            #print(rttext_tagh[tt][0],vb)\n",
        "                                            if str(vb) ==str(rttext_tagu[tt][0]):\n",
        "                                                cc=cc+1\n",
        "                                                break\n",
        "                                            else:\n",
        "                                                continue\n",
        "\n",
        "                                except:\n",
        "                                    continue\n",
        "                                \n",
        "                #txt_lbp\n",
        "                top3=cc/len(txt_lbp)\n",
        "                print(\"top1: \"+str(top1))\n",
        "                print(\"top2: \"+str(top2))\n",
        "                print(\"top3: \"+str(top3))\n",
        "                #return txt_lbp,rttext_tagu\n"
      ],
      "metadata": {
        "id": "NSmeQBOupwtz"
      },
      "execution_count": null,
      "outputs": []
    },
    {
      "cell_type": "code",
      "source": [
        "zeroshot_cluster()"
      ],
      "metadata": {
        "colab": {
          "base_uri": "https://localhost:8080/"
        },
        "id": "BbsGDqn66OU3",
        "outputId": "fbb90d8e-a83f-470c-8992-90a1da16b4ac"
      },
      "execution_count": null,
      "outputs": [
        {
          "output_type": "stream",
          "name": "stderr",
          "text": [
            "No model was supplied, defaulted to facebook/bart-large-mnli (https://huggingface.co/facebook/bart-large-mnli)\n"
          ]
        },
        {
          "output_type": "stream",
          "name": "stdout",
          "text": [
            "cluster number\n",
            "25\n",
            "cluster number: 0\n",
            "2 16\n"
          ]
        },
        {
          "output_type": "stream",
          "name": "stderr",
          "text": [
            "No model was supplied, defaulted to facebook/bart-large-mnli (https://huggingface.co/facebook/bart-large-mnli)\n"
          ]
        },
        {
          "output_type": "stream",
          "name": "stdout",
          "text": [
            "Percentage of the original labels keep the original labels\n",
            "0.0625\n",
            "Number of predicted non-orogonalabel has higher prediction score\n",
            "14 16\n",
            "top1: 0.0625\n",
            "top2: 1.0\n",
            "top3: 1.0\n",
            "cluster number: 60\n",
            "1 10\n"
          ]
        },
        {
          "output_type": "stream",
          "name": "stderr",
          "text": [
            "No model was supplied, defaulted to facebook/bart-large-mnli (https://huggingface.co/facebook/bart-large-mnli)\n"
          ]
        },
        {
          "output_type": "stream",
          "name": "stdout",
          "text": [
            "Percentage of the original labels keep the original labels\n",
            "1.0\n",
            "Number of predicted non-orogonalabel has higher prediction score\n",
            "0 10\n",
            "top1: 1.0\n",
            "top2: 1.0\n",
            "top3: 1.0\n",
            "cluster number: 22\n",
            "3 12\n"
          ]
        },
        {
          "output_type": "stream",
          "name": "stderr",
          "text": [
            "No model was supplied, defaulted to facebook/bart-large-mnli (https://huggingface.co/facebook/bart-large-mnli)\n"
          ]
        },
        {
          "output_type": "stream",
          "name": "stdout",
          "text": [
            "Percentage of the original labels keep the original labels\n",
            "0.08333333333333333\n",
            "Number of predicted non-orogonalabel has higher prediction score\n",
            "9 12\n",
            "top1: 0.08333333333333333\n",
            "top2: 0.4166666666666667\n",
            "top3: 1.0\n",
            "cluster number: 33\n",
            "1 14\n"
          ]
        },
        {
          "output_type": "stream",
          "name": "stderr",
          "text": [
            "No model was supplied, defaulted to facebook/bart-large-mnli (https://huggingface.co/facebook/bart-large-mnli)\n"
          ]
        },
        {
          "output_type": "stream",
          "name": "stdout",
          "text": [
            "Percentage of the original labels keep the original labels\n",
            "1.0\n",
            "Number of predicted non-orogonalabel has higher prediction score\n",
            "0 14\n",
            "top1: 1.0\n",
            "top2: 1.0\n",
            "top3: 1.0\n",
            "cluster number: 27\n",
            "1 12\n"
          ]
        },
        {
          "output_type": "stream",
          "name": "stderr",
          "text": [
            "No model was supplied, defaulted to facebook/bart-large-mnli (https://huggingface.co/facebook/bart-large-mnli)\n"
          ]
        },
        {
          "output_type": "stream",
          "name": "stdout",
          "text": [
            "Percentage of the original labels keep the original labels\n",
            "1.0\n",
            "Number of predicted non-orogonalabel has higher prediction score\n",
            "0 12\n",
            "top1: 1.0\n",
            "top2: 1.0\n",
            "top3: 1.0\n",
            "cluster number: 4\n",
            "3 11\n"
          ]
        },
        {
          "output_type": "stream",
          "name": "stderr",
          "text": [
            "No model was supplied, defaulted to facebook/bart-large-mnli (https://huggingface.co/facebook/bart-large-mnli)\n"
          ]
        },
        {
          "output_type": "stream",
          "name": "stdout",
          "text": [
            "Percentage of the original labels keep the original labels\n",
            "0.45454545454545453\n",
            "Number of predicted non-orogonalabel has higher prediction score\n",
            "5 11\n",
            "top1: 0.45454545454545453\n",
            "top2: 0.5454545454545454\n",
            "top3: 1.0\n",
            "cluster number: 13\n",
            "4 12\n"
          ]
        },
        {
          "output_type": "stream",
          "name": "stderr",
          "text": [
            "No model was supplied, defaulted to facebook/bart-large-mnli (https://huggingface.co/facebook/bart-large-mnli)\n"
          ]
        },
        {
          "output_type": "stream",
          "name": "stdout",
          "text": [
            "Percentage of the original labels keep the original labels\n",
            "0.08333333333333333\n",
            "Number of predicted non-orogonalabel has higher prediction score\n",
            "11 12\n",
            "top1: 0.08333333333333333\n",
            "top2: 0.25\n",
            "top3: 0.5\n",
            "cluster number: 73\n",
            "2 12\n"
          ]
        },
        {
          "output_type": "stream",
          "name": "stderr",
          "text": [
            "No model was supplied, defaulted to facebook/bart-large-mnli (https://huggingface.co/facebook/bart-large-mnli)\n"
          ]
        },
        {
          "output_type": "stream",
          "name": "stdout",
          "text": [
            "Percentage of the original labels keep the original labels\n",
            "0.0\n",
            "Number of predicted non-orogonalabel has higher prediction score\n",
            "10 12\n",
            "top1: 0.0\n",
            "top2: 1.0\n",
            "top3: 1.0\n",
            "cluster number: 2\n",
            "2 12\n"
          ]
        },
        {
          "output_type": "stream",
          "name": "stderr",
          "text": [
            "No model was supplied, defaulted to facebook/bart-large-mnli (https://huggingface.co/facebook/bart-large-mnli)\n"
          ]
        },
        {
          "output_type": "stream",
          "name": "stdout",
          "text": [
            "Percentage of the original labels keep the original labels\n",
            "0.08333333333333333\n",
            "Number of predicted non-orogonalabel has higher prediction score\n",
            "0 12\n",
            "top1: 0.08333333333333333\n",
            "top2: 1.0\n",
            "top3: 1.0\n",
            "cluster number: 38\n",
            "2 13\n"
          ]
        },
        {
          "output_type": "stream",
          "name": "stderr",
          "text": [
            "No model was supplied, defaulted to facebook/bart-large-mnli (https://huggingface.co/facebook/bart-large-mnli)\n"
          ]
        },
        {
          "output_type": "stream",
          "name": "stdout",
          "text": [
            "Percentage of the original labels keep the original labels\n",
            "0.07692307692307693\n",
            "Number of predicted non-orogonalabel has higher prediction score\n",
            "12 13\n",
            "top1: 0.07692307692307693\n",
            "top2: 1.0\n",
            "top3: 1.0\n",
            "cluster number: 29\n",
            "1 10\n"
          ]
        },
        {
          "output_type": "stream",
          "name": "stderr",
          "text": [
            "No model was supplied, defaulted to facebook/bart-large-mnli (https://huggingface.co/facebook/bart-large-mnli)\n"
          ]
        },
        {
          "output_type": "stream",
          "name": "stdout",
          "text": [
            "Percentage of the original labels keep the original labels\n",
            "1.0\n",
            "Number of predicted non-orogonalabel has higher prediction score\n",
            "0 10\n",
            "top1: 1.0\n",
            "top2: 1.0\n",
            "top3: 1.0\n",
            "cluster number: 17\n",
            "1 15\n"
          ]
        },
        {
          "output_type": "stream",
          "name": "stderr",
          "text": [
            "No model was supplied, defaulted to facebook/bart-large-mnli (https://huggingface.co/facebook/bart-large-mnli)\n"
          ]
        },
        {
          "output_type": "stream",
          "name": "stdout",
          "text": [
            "Percentage of the original labels keep the original labels\n",
            "1.0\n",
            "Number of predicted non-orogonalabel has higher prediction score\n",
            "0 15\n",
            "top1: 1.0\n",
            "top2: 1.0\n",
            "top3: 1.0\n",
            "cluster number: 19\n",
            "1 14\n"
          ]
        },
        {
          "output_type": "stream",
          "name": "stderr",
          "text": [
            "No model was supplied, defaulted to facebook/bart-large-mnli (https://huggingface.co/facebook/bart-large-mnli)\n"
          ]
        },
        {
          "output_type": "stream",
          "name": "stdout",
          "text": [
            "Percentage of the original labels keep the original labels\n",
            "1.0\n",
            "Number of predicted non-orogonalabel has higher prediction score\n",
            "0 14\n",
            "top1: 1.0\n",
            "top2: 1.0\n",
            "top3: 1.0\n",
            "cluster number: 6\n",
            "2 13\n"
          ]
        },
        {
          "output_type": "stream",
          "name": "stderr",
          "text": [
            "No model was supplied, defaulted to facebook/bart-large-mnli (https://huggingface.co/facebook/bart-large-mnli)\n"
          ]
        },
        {
          "output_type": "stream",
          "name": "stdout",
          "text": [
            "Percentage of the original labels keep the original labels\n",
            "0.07692307692307693\n",
            "Number of predicted non-orogonalabel has higher prediction score\n",
            "9 13\n",
            "top1: 0.07692307692307693\n",
            "top2: 1.0\n",
            "top3: 1.0\n",
            "cluster number: 25\n",
            "1 10\n"
          ]
        },
        {
          "output_type": "stream",
          "name": "stderr",
          "text": [
            "No model was supplied, defaulted to facebook/bart-large-mnli (https://huggingface.co/facebook/bart-large-mnli)\n"
          ]
        },
        {
          "output_type": "stream",
          "name": "stdout",
          "text": [
            "Percentage of the original labels keep the original labels\n",
            "1.0\n",
            "Number of predicted non-orogonalabel has higher prediction score\n",
            "0 10\n",
            "top1: 1.0\n",
            "top2: 1.0\n",
            "top3: 1.0\n",
            "cluster number: 3\n",
            "3 12\n"
          ]
        },
        {
          "output_type": "stream",
          "name": "stderr",
          "text": [
            "No model was supplied, defaulted to facebook/bart-large-mnli (https://huggingface.co/facebook/bart-large-mnli)\n"
          ]
        },
        {
          "output_type": "stream",
          "name": "stdout",
          "text": [
            "Percentage of the original labels keep the original labels\n",
            "0.25\n",
            "Number of predicted non-orogonalabel has higher prediction score\n",
            "9 12\n",
            "top1: 0.25\n",
            "top2: 0.5\n",
            "top3: 1.0\n",
            "cluster number: 10\n",
            "2 14\n"
          ]
        },
        {
          "output_type": "stream",
          "name": "stderr",
          "text": [
            "No model was supplied, defaulted to facebook/bart-large-mnli (https://huggingface.co/facebook/bart-large-mnli)\n"
          ]
        },
        {
          "output_type": "stream",
          "name": "stdout",
          "text": [
            "Percentage of the original labels keep the original labels\n",
            "0.9285714285714286\n",
            "Number of predicted non-orogonalabel has higher prediction score\n",
            "1 14\n",
            "top1: 0.9285714285714286\n",
            "top2: 1.0\n",
            "top3: 1.0\n",
            "cluster number: 28\n",
            "1 10\n"
          ]
        },
        {
          "output_type": "stream",
          "name": "stderr",
          "text": [
            "No model was supplied, defaulted to facebook/bart-large-mnli (https://huggingface.co/facebook/bart-large-mnli)\n"
          ]
        },
        {
          "output_type": "stream",
          "name": "stdout",
          "text": [
            "Percentage of the original labels keep the original labels\n",
            "1.0\n",
            "Number of predicted non-orogonalabel has higher prediction score\n",
            "0 10\n",
            "top1: 1.0\n",
            "top2: 1.0\n",
            "top3: 1.0\n",
            "cluster number: 37\n",
            "1 12\n"
          ]
        },
        {
          "output_type": "stream",
          "name": "stderr",
          "text": [
            "No model was supplied, defaulted to facebook/bart-large-mnli (https://huggingface.co/facebook/bart-large-mnli)\n"
          ]
        },
        {
          "output_type": "stream",
          "name": "stdout",
          "text": [
            "Percentage of the original labels keep the original labels\n",
            "1.0\n",
            "Number of predicted non-orogonalabel has higher prediction score\n",
            "0 12\n",
            "top1: 1.0\n",
            "top2: 1.0\n",
            "top3: 1.0\n",
            "cluster number: 71\n",
            "1 12\n"
          ]
        },
        {
          "output_type": "stream",
          "name": "stderr",
          "text": [
            "No model was supplied, defaulted to facebook/bart-large-mnli (https://huggingface.co/facebook/bart-large-mnli)\n"
          ]
        },
        {
          "output_type": "stream",
          "name": "stdout",
          "text": [
            "Percentage of the original labels keep the original labels\n",
            "1.0\n",
            "Number of predicted non-orogonalabel has higher prediction score\n",
            "0 12\n",
            "top1: 1.0\n",
            "top2: 1.0\n",
            "top3: 1.0\n",
            "cluster number: 1\n",
            "1 10\n"
          ]
        },
        {
          "output_type": "stream",
          "name": "stderr",
          "text": [
            "No model was supplied, defaulted to facebook/bart-large-mnli (https://huggingface.co/facebook/bart-large-mnli)\n"
          ]
        },
        {
          "output_type": "stream",
          "name": "stdout",
          "text": [
            "Percentage of the original labels keep the original labels\n",
            "1.0\n",
            "Number of predicted non-orogonalabel has higher prediction score\n",
            "0 10\n",
            "top1: 1.0\n",
            "top2: 1.0\n",
            "top3: 1.0\n",
            "cluster number: 56\n",
            "1 18\n"
          ]
        },
        {
          "output_type": "stream",
          "name": "stderr",
          "text": [
            "No model was supplied, defaulted to facebook/bart-large-mnli (https://huggingface.co/facebook/bart-large-mnli)\n"
          ]
        },
        {
          "output_type": "stream",
          "name": "stdout",
          "text": [
            "Percentage of the original labels keep the original labels\n",
            "1.0\n",
            "Number of predicted non-orogonalabel has higher prediction score\n",
            "0 18\n",
            "top1: 1.0\n",
            "top2: 1.0\n",
            "top3: 1.0\n",
            "cluster number: 5\n",
            "1 18\n"
          ]
        },
        {
          "output_type": "stream",
          "name": "stderr",
          "text": [
            "No model was supplied, defaulted to facebook/bart-large-mnli (https://huggingface.co/facebook/bart-large-mnli)\n"
          ]
        },
        {
          "output_type": "stream",
          "name": "stdout",
          "text": [
            "Percentage of the original labels keep the original labels\n",
            "1.0\n",
            "Number of predicted non-orogonalabel has higher prediction score\n",
            "0 18\n",
            "top1: 1.0\n",
            "top2: 1.0\n",
            "top3: 1.0\n",
            "cluster number: 75\n",
            "1 12\n"
          ]
        },
        {
          "output_type": "stream",
          "name": "stderr",
          "text": [
            "No model was supplied, defaulted to facebook/bart-large-mnli (https://huggingface.co/facebook/bart-large-mnli)\n"
          ]
        },
        {
          "output_type": "stream",
          "name": "stdout",
          "text": [
            "Percentage of the original labels keep the original labels\n",
            "1.0\n",
            "Number of predicted non-orogonalabel has higher prediction score\n",
            "0 12\n",
            "top1: 1.0\n",
            "top2: 1.0\n",
            "top3: 1.0\n",
            "cluster number: 14\n",
            "1 13\n",
            "Percentage of the original labels keep the original labels\n",
            "1.0\n",
            "Number of predicted non-orogonalabel has higher prediction score\n",
            "0 13\n",
            "top1: 1.0\n",
            "top2: 1.0\n",
            "top3: 1.0\n"
          ]
        }
      ]
    },
    {
      "cell_type": "code",
      "source": [
        "#accuracy of multi-level classification with k-means clustering\n",
        "cc=0\n",
        "vb1=0\n",
        "for tt in txt_lbp:\n",
        "        #if vb1 < 1000:\n",
        "                #vb1=vb1+1 \n",
        "                try:\n",
        "                    for vb in txt_lbp[tt][0:2]:\n",
        "                            #print(rttext_tagu[tt][0],vb)\n",
        "                            if vb in rttext_tagh[tt][0:1]:\n",
        "                                cc=cc+1\n",
        "                                break\n",
        "                            else:\n",
        "                                continue\n",
        "\n",
        "                except:\n",
        "                    continue\n",
        "                \n",
        "#txt_lbp\n",
        "top3=cc/len(txt_lbp)\n",
        "print(top3)"
      ],
      "metadata": {
        "colab": {
          "base_uri": "https://localhost:8080/"
        },
        "id": "OTO44k5S8u7_",
        "outputId": "4378a014-52ba-4ee9-af07-e59fe738b57f"
      },
      "execution_count": null,
      "outputs": [
        {
          "output_type": "stream",
          "name": "stdout",
          "text": [
            "1.0\n"
          ]
        }
      ]
    },
    {
      "cell_type": "code",
      "source": [
        ""
      ],
      "metadata": {
        "id": "Mc7Jla2Ppwx0"
      },
      "execution_count": null,
      "outputs": []
    },
    {
      "cell_type": "code",
      "source": [
        ""
      ],
      "metadata": {
        "id": "YXagORZspw1X"
      },
      "execution_count": null,
      "outputs": []
    },
    {
      "cell_type": "code",
      "source": [
        ""
      ],
      "metadata": {
        "id": "nQYZLqkZpw4x"
      },
      "execution_count": null,
      "outputs": []
    },
    {
      "cell_type": "code",
      "execution_count": null,
      "metadata": {
        "colab": {
          "base_uri": "https://localhost:8080/"
        },
        "id": "omWWXnEVTKOm",
        "outputId": "5bb4ee59-6d9e-4794-8785-cf605fff65f2"
      },
      "outputs": [
        {
          "output_type": "stream",
          "name": "stdout",
          "text": [
            "2 718\n"
          ]
        }
      ],
      "source": [
        "# with out any method\n",
        "\n",
        "#updated preprocess labels based on the cluster rttext_tag2\n",
        "#len(rttext_tagh)\n",
        "#number of labels per model\n",
        "truh=[]\n",
        "ssh=[]\n",
        "for k in rttag:\n",
        "    for jj in rttag[k]:\n",
        "        if jj not in ssh:\n",
        "            ssh.append(jj)\n",
        "s=set(ssh)\n",
        "for k in s:\n",
        "    truh.append(k)\n",
        "rttext_tagh=rttag\n",
        "truhh=truh\n",
        "print(len(truhh),len(rttext_tagh))"
      ]
    },
    {
      "cell_type": "code",
      "source": [
        "#with original labels\n",
        "truh=[]\n",
        "ssh=[]\n",
        "for k in rttext_tag2:\n",
        "    for jj in rttext_tag2[k]:\n",
        "        if jj not in ssh:\n",
        "            ssh.append(jj)\n",
        "s=set(ssh)\n",
        "for k in s:\n",
        "    truh.append(k)\n",
        "rttext_tagh=rttext_tag2\n",
        "truhh=truh\n",
        "print(len(truhh),len(rttext_tagh))"
      ],
      "metadata": {
        "colab": {
          "base_uri": "https://localhost:8080/"
        },
        "id": "gdJbgyLyXAyK",
        "outputId": "61f21f2e-63ad-471b-b0f0-862d7481c7bc"
      },
      "execution_count": null,
      "outputs": [
        {
          "output_type": "stream",
          "name": "stdout",
          "text": [
            "63 100\n"
          ]
        }
      ]
    },
    {
      "cell_type": "code",
      "execution_count": null,
      "metadata": {
        "id": "lWKW8FJ08fZ7"
      },
      "outputs": [],
      "source": [
        ""
      ]
    },
    {
      "cell_type": "code",
      "execution_count": null,
      "metadata": {
        "colab": {
          "base_uri": "https://localhost:8080/"
        },
        "id": "erwKE8ooqaow",
        "outputId": "e4d1947b-6956-481d-f3f2-fa2ec75f2ea5"
      },
      "outputs": [
        {
          "output_type": "stream",
          "name": "stderr",
          "text": [
            "No model was supplied, defaulted to facebook/bart-large-mnli (https://huggingface.co/facebook/bart-large-mnli)\n"
          ]
        }
      ],
      "source": [
        ""
      ]
    },
    {
      "cell_type": "code",
      "source": [
        "\n",
        "# With out preprocessing first 100 texts 63 unique labeld\n",
        "Top1:0.15\n",
        "Top2:0.38\n",
        "Top2:0.41\n",
        "\n",
        "# With out preprocessing random 100 texts 63 unique labeld\n",
        "Top1:0.19\n",
        "Top2:0.59\n",
        "Top2:0.68\n",
        "\n",
        "# With  preprocessing 100 texts 2 unique labeld with 5 cluster of tags,\n",
        "Top1:0.86\n",
        "Top2:1.0\n",
        "Top2:1.0\n",
        "\n",
        "# With  preprocessing 100 texts 4 unique labeld with 10 cluster of tags,\n",
        "Top1:0.47\n",
        "Top2:0.68\n",
        "Top2:0.95\n",
        "\n",
        "# With  preprocessing 100 texts 3 unique labeld with 15 cluster of tags,\n",
        "Top1:0.54\n",
        "Top2:0.75\n",
        "Top2:1.0\n",
        "\n",
        "'''\n",
        "# With  preprocessing 100 texts 4 unique labeld with 5 cluster of tags, The:0.5\n",
        "Top1:0.72\n",
        "Top2:0.90\n",
        "Top2:0.98\n",
        "\n",
        "\n",
        "\n",
        "# With  preprocessing 100 texts 3 unique labeld with 10 cluster of tags 4.25\n",
        "Top1:0.85\n",
        "Top2:96\n",
        "Top2:100\n",
        "\n",
        "# With  preprocessing 100 texts 4 unique labeld with 7 cluster of tags 3.00\n",
        "Top1:0.42\n",
        "Top2:71\n",
        "Top2:96\n",
        "\n",
        "# With  preprocessing 100 texts 3 unique labeld with 5 cluster of tags 3.250\n",
        "Top1:0.38\n",
        "Top2:67\n",
        "Top2:100\n",
        "\n",
        "\n",
        "# With  preprocessing 100 texts 6 unique labeld with 15 cluster of tags 3.00\n",
        "Top1:0.22\n",
        "Top2:28\n",
        "Top2:41\n",
        "\n",
        "# With  preprocessing 100 texts 4 unique labeld with 15 cluster of tags 3.00\n",
        "Top1:0.14\n",
        "Top2:39\n",
        "Top2:48\n",
        "\n",
        "\n",
        "# With  preprocessing 100 texts 4 unique labeld with 15 cluster of tags 3.00 (centrioid as cluster head)\n",
        "Top1:0.19\n",
        "Top2:46\n",
        "Top2:62"
      ],
      "metadata": {
        "colab": {
          "base_uri": "https://localhost:8080/",
          "height": 149
        },
        "id": "aZBOL3embf85",
        "outputId": "38e07e9f-2878-41d0-f3bc-3694a88a06d6"
      },
      "execution_count": null,
      "outputs": [
        {
          "output_type": "error",
          "ename": "SyntaxError",
          "evalue": "ignored",
          "traceback": [
            "\u001b[0;36m  File \u001b[0;32m\"<ipython-input-350-eb483dfe314d>\"\u001b[0;36m, line \u001b[0;32m50\u001b[0m\n\u001b[0;31m    Top2:62\u001b[0m\n\u001b[0m           \n^\u001b[0m\n\u001b[0;31mSyntaxError\u001b[0m\u001b[0;31m:\u001b[0m EOF while scanning triple-quoted string literal\n"
          ]
        }
      ]
    },
    {
      "cell_type": "code",
      "source": [
        ""
      ],
      "metadata": {
        "id": "myQsnE61bgAW"
      },
      "execution_count": null,
      "outputs": []
    },
    {
      "cell_type": "code",
      "execution_count": null,
      "metadata": {
        "colab": {
          "base_uri": "https://localhost:8080/"
        },
        "id": "8-vm0UA8WOpr",
        "outputId": "0b037c90-a1af-4847-8cb4-4d4a13abacd2"
      },
      "outputs": [
        {
          "data": {
            "text/plain": [
              "31"
            ]
          },
          "execution_count": 172,
          "metadata": {},
          "output_type": "execute_result"
        }
      ],
      "source": [
        "len(final_clu)"
      ]
    },
    {
      "cell_type": "code",
      "execution_count": null,
      "metadata": {
        "id": "GpeRyTFa5eRl"
      },
      "outputs": [],
      "source": [
        ""
      ]
    },
    {
      "cell_type": "code",
      "execution_count": null,
      "metadata": {
        "id": "Zxwalpxx5eVZ"
      },
      "outputs": [],
      "source": [
        ""
      ]
    },
    {
      "cell_type": "code",
      "execution_count": null,
      "metadata": {
        "id": "Vnx0BPV_5eYr"
      },
      "outputs": [],
      "source": [
        ""
      ]
    },
    {
      "cell_type": "markdown",
      "metadata": {
        "id": "EgOmV-hX10f2"
      },
      "source": [
        ""
      ]
    },
    {
      "cell_type": "code",
      "execution_count": null,
      "metadata": {
        "id": "HqvhjuZT-Txz"
      },
      "outputs": [],
      "source": [
        ""
      ]
    },
    {
      "cell_type": "code",
      "execution_count": null,
      "metadata": {
        "id": "0KgIq2bF-T4k"
      },
      "outputs": [],
      "source": [
        ""
      ]
    },
    {
      "cell_type": "code",
      "execution_count": null,
      "metadata": {
        "id": "ttJpRGqSmD-p"
      },
      "outputs": [],
      "source": [
        ""
      ]
    },
    {
      "cell_type": "code",
      "execution_count": null,
      "metadata": {
        "id": "CNhSJF8pl_XK"
      },
      "outputs": [],
      "source": [
        ""
      ]
    },
    {
      "cell_type": "code",
      "execution_count": null,
      "metadata": {
        "id": "DAG_56oXl_al"
      },
      "outputs": [],
      "source": [
        ""
      ]
    },
    {
      "cell_type": "code",
      "execution_count": null,
      "metadata": {
        "id": "PzwYg58zl_eB"
      },
      "outputs": [],
      "source": [
        ""
      ]
    },
    {
      "cell_type": "code",
      "execution_count": null,
      "metadata": {
        "id": "svUjOWt8l_hX"
      },
      "outputs": [],
      "source": [
        ""
      ]
    }
  ],
  "metadata": {
    "accelerator": "TPU",
    "colab": {
      "collapsed_sections": [],
      "machine_shape": "hm",
      "name": "Zero_Shot_K_MEANS_Agglomerative_cluster_Appliccation.ipynb",
      "provenance": [],
      "background_execution": "on",
      "authorship_tag": "ABX9TyNdqMdqLH2m4dmMSlRNL8w8",
      "include_colab_link": true
    },
    "kernelspec": {
      "display_name": "Python 3",
      "name": "python3"
    },
    "language_info": {
      "name": "python"
    },
    "widgets": {
      "application/vnd.jupyter.widget-state+json": {
        "6255ed839d94456a8c79f0b74babcaf9": {
          "model_module": "@jupyter-widgets/controls",
          "model_name": "HBoxModel",
          "model_module_version": "1.5.0",
          "state": {
            "_view_name": "HBoxView",
            "_dom_classes": [],
            "_model_name": "HBoxModel",
            "_view_module": "@jupyter-widgets/controls",
            "_model_module_version": "1.5.0",
            "_view_count": null,
            "_view_module_version": "1.5.0",
            "box_style": "",
            "layout": "IPY_MODEL_9064c5f5ef234f7a93588341272840af",
            "_model_module": "@jupyter-widgets/controls",
            "children": [
              "IPY_MODEL_54346f09bc8a4531951a7e408471d1f7",
              "IPY_MODEL_1962999abbf94e6b9e5858f2efeefc67",
              "IPY_MODEL_9f025d14b8a64dbd81af9846e631ac83"
            ]
          }
        },
        "9064c5f5ef234f7a93588341272840af": {
          "model_module": "@jupyter-widgets/base",
          "model_name": "LayoutModel",
          "model_module_version": "1.2.0",
          "state": {
            "_view_name": "LayoutView",
            "grid_template_rows": null,
            "right": null,
            "justify_content": null,
            "_view_module": "@jupyter-widgets/base",
            "overflow": null,
            "_model_module_version": "1.2.0",
            "_view_count": null,
            "flex_flow": null,
            "width": null,
            "min_width": null,
            "border": null,
            "align_items": null,
            "bottom": null,
            "_model_module": "@jupyter-widgets/base",
            "top": null,
            "grid_column": null,
            "overflow_y": null,
            "overflow_x": null,
            "grid_auto_flow": null,
            "grid_area": null,
            "grid_template_columns": null,
            "flex": null,
            "_model_name": "LayoutModel",
            "justify_items": null,
            "grid_row": null,
            "max_height": null,
            "align_content": null,
            "visibility": null,
            "align_self": null,
            "height": null,
            "min_height": null,
            "padding": null,
            "grid_auto_rows": null,
            "grid_gap": null,
            "max_width": null,
            "order": null,
            "_view_module_version": "1.2.0",
            "grid_template_areas": null,
            "object_position": null,
            "object_fit": null,
            "grid_auto_columns": null,
            "margin": null,
            "display": null,
            "left": null
          }
        },
        "54346f09bc8a4531951a7e408471d1f7": {
          "model_module": "@jupyter-widgets/controls",
          "model_name": "HTMLModel",
          "model_module_version": "1.5.0",
          "state": {
            "_view_name": "HTMLView",
            "style": "IPY_MODEL_5deb1ddba3e34ac89267159c455e2a8a",
            "_dom_classes": [],
            "description": "",
            "_model_name": "HTMLModel",
            "placeholder": "​",
            "_view_module": "@jupyter-widgets/controls",
            "_model_module_version": "1.5.0",
            "value": "Downloading: ",
            "_view_count": null,
            "_view_module_version": "1.5.0",
            "description_tooltip": null,
            "_model_module": "@jupyter-widgets/controls",
            "layout": "IPY_MODEL_732329df873649a6944d2f76e80f800a"
          }
        },
        "1962999abbf94e6b9e5858f2efeefc67": {
          "model_module": "@jupyter-widgets/controls",
          "model_name": "FloatProgressModel",
          "model_module_version": "1.5.0",
          "state": {
            "_view_name": "ProgressView",
            "style": "IPY_MODEL_fa8abd78b7af43e2bff1461a510691f4",
            "_dom_classes": [],
            "description": "",
            "_model_name": "FloatProgressModel",
            "bar_style": "success",
            "max": 4165,
            "_view_module": "@jupyter-widgets/controls",
            "_model_module_version": "1.5.0",
            "value": 4165,
            "_view_count": null,
            "_view_module_version": "1.5.0",
            "orientation": "horizontal",
            "min": 0,
            "description_tooltip": null,
            "_model_module": "@jupyter-widgets/controls",
            "layout": "IPY_MODEL_0fba892072c44ad0b3de854984646f62"
          }
        },
        "9f025d14b8a64dbd81af9846e631ac83": {
          "model_module": "@jupyter-widgets/controls",
          "model_name": "HTMLModel",
          "model_module_version": "1.5.0",
          "state": {
            "_view_name": "HTMLView",
            "style": "IPY_MODEL_148bd5e001d84c2c8ee02d1353563b99",
            "_dom_classes": [],
            "description": "",
            "_model_name": "HTMLModel",
            "placeholder": "​",
            "_view_module": "@jupyter-widgets/controls",
            "_model_module_version": "1.5.0",
            "value": " 17.9k/? [00:00&lt;00:00, 611kB/s]",
            "_view_count": null,
            "_view_module_version": "1.5.0",
            "description_tooltip": null,
            "_model_module": "@jupyter-widgets/controls",
            "layout": "IPY_MODEL_b388cfc4e7344fd3b2f644c4c1482ac8"
          }
        },
        "5deb1ddba3e34ac89267159c455e2a8a": {
          "model_module": "@jupyter-widgets/controls",
          "model_name": "DescriptionStyleModel",
          "model_module_version": "1.5.0",
          "state": {
            "_view_name": "StyleView",
            "_model_name": "DescriptionStyleModel",
            "description_width": "",
            "_view_module": "@jupyter-widgets/base",
            "_model_module_version": "1.5.0",
            "_view_count": null,
            "_view_module_version": "1.2.0",
            "_model_module": "@jupyter-widgets/controls"
          }
        },
        "732329df873649a6944d2f76e80f800a": {
          "model_module": "@jupyter-widgets/base",
          "model_name": "LayoutModel",
          "model_module_version": "1.2.0",
          "state": {
            "_view_name": "LayoutView",
            "grid_template_rows": null,
            "right": null,
            "justify_content": null,
            "_view_module": "@jupyter-widgets/base",
            "overflow": null,
            "_model_module_version": "1.2.0",
            "_view_count": null,
            "flex_flow": null,
            "width": null,
            "min_width": null,
            "border": null,
            "align_items": null,
            "bottom": null,
            "_model_module": "@jupyter-widgets/base",
            "top": null,
            "grid_column": null,
            "overflow_y": null,
            "overflow_x": null,
            "grid_auto_flow": null,
            "grid_area": null,
            "grid_template_columns": null,
            "flex": null,
            "_model_name": "LayoutModel",
            "justify_items": null,
            "grid_row": null,
            "max_height": null,
            "align_content": null,
            "visibility": null,
            "align_self": null,
            "height": null,
            "min_height": null,
            "padding": null,
            "grid_auto_rows": null,
            "grid_gap": null,
            "max_width": null,
            "order": null,
            "_view_module_version": "1.2.0",
            "grid_template_areas": null,
            "object_position": null,
            "object_fit": null,
            "grid_auto_columns": null,
            "margin": null,
            "display": null,
            "left": null
          }
        },
        "fa8abd78b7af43e2bff1461a510691f4": {
          "model_module": "@jupyter-widgets/controls",
          "model_name": "ProgressStyleModel",
          "model_module_version": "1.5.0",
          "state": {
            "_view_name": "StyleView",
            "_model_name": "ProgressStyleModel",
            "description_width": "",
            "_view_module": "@jupyter-widgets/base",
            "_model_module_version": "1.5.0",
            "_view_count": null,
            "_view_module_version": "1.2.0",
            "bar_color": null,
            "_model_module": "@jupyter-widgets/controls"
          }
        },
        "0fba892072c44ad0b3de854984646f62": {
          "model_module": "@jupyter-widgets/base",
          "model_name": "LayoutModel",
          "model_module_version": "1.2.0",
          "state": {
            "_view_name": "LayoutView",
            "grid_template_rows": null,
            "right": null,
            "justify_content": null,
            "_view_module": "@jupyter-widgets/base",
            "overflow": null,
            "_model_module_version": "1.2.0",
            "_view_count": null,
            "flex_flow": null,
            "width": null,
            "min_width": null,
            "border": null,
            "align_items": null,
            "bottom": null,
            "_model_module": "@jupyter-widgets/base",
            "top": null,
            "grid_column": null,
            "overflow_y": null,
            "overflow_x": null,
            "grid_auto_flow": null,
            "grid_area": null,
            "grid_template_columns": null,
            "flex": null,
            "_model_name": "LayoutModel",
            "justify_items": null,
            "grid_row": null,
            "max_height": null,
            "align_content": null,
            "visibility": null,
            "align_self": null,
            "height": null,
            "min_height": null,
            "padding": null,
            "grid_auto_rows": null,
            "grid_gap": null,
            "max_width": null,
            "order": null,
            "_view_module_version": "1.2.0",
            "grid_template_areas": null,
            "object_position": null,
            "object_fit": null,
            "grid_auto_columns": null,
            "margin": null,
            "display": null,
            "left": null
          }
        },
        "148bd5e001d84c2c8ee02d1353563b99": {
          "model_module": "@jupyter-widgets/controls",
          "model_name": "DescriptionStyleModel",
          "model_module_version": "1.5.0",
          "state": {
            "_view_name": "StyleView",
            "_model_name": "DescriptionStyleModel",
            "description_width": "",
            "_view_module": "@jupyter-widgets/base",
            "_model_module_version": "1.5.0",
            "_view_count": null,
            "_view_module_version": "1.2.0",
            "_model_module": "@jupyter-widgets/controls"
          }
        },
        "b388cfc4e7344fd3b2f644c4c1482ac8": {
          "model_module": "@jupyter-widgets/base",
          "model_name": "LayoutModel",
          "model_module_version": "1.2.0",
          "state": {
            "_view_name": "LayoutView",
            "grid_template_rows": null,
            "right": null,
            "justify_content": null,
            "_view_module": "@jupyter-widgets/base",
            "overflow": null,
            "_model_module_version": "1.2.0",
            "_view_count": null,
            "flex_flow": null,
            "width": null,
            "min_width": null,
            "border": null,
            "align_items": null,
            "bottom": null,
            "_model_module": "@jupyter-widgets/base",
            "top": null,
            "grid_column": null,
            "overflow_y": null,
            "overflow_x": null,
            "grid_auto_flow": null,
            "grid_area": null,
            "grid_template_columns": null,
            "flex": null,
            "_model_name": "LayoutModel",
            "justify_items": null,
            "grid_row": null,
            "max_height": null,
            "align_content": null,
            "visibility": null,
            "align_self": null,
            "height": null,
            "min_height": null,
            "padding": null,
            "grid_auto_rows": null,
            "grid_gap": null,
            "max_width": null,
            "order": null,
            "_view_module_version": "1.2.0",
            "grid_template_areas": null,
            "object_position": null,
            "object_fit": null,
            "grid_auto_columns": null,
            "margin": null,
            "display": null,
            "left": null
          }
        },
        "3f5e49e508964ca89e4eed23ca7392e5": {
          "model_module": "@jupyter-widgets/controls",
          "model_name": "HBoxModel",
          "model_module_version": "1.5.0",
          "state": {
            "_view_name": "HBoxView",
            "_dom_classes": [],
            "_model_name": "HBoxModel",
            "_view_module": "@jupyter-widgets/controls",
            "_model_module_version": "1.5.0",
            "_view_count": null,
            "_view_module_version": "1.5.0",
            "box_style": "",
            "layout": "IPY_MODEL_0afe040cc1834548b4b852f97fa09129",
            "_model_module": "@jupyter-widgets/controls",
            "children": [
              "IPY_MODEL_9e08ebdc7ffc40dfaf0f5b5d343040bb",
              "IPY_MODEL_cdc481e3a30148f788e05f5cfda6eb7d",
              "IPY_MODEL_c5ae3f94903f48b9996554b2b5899967"
            ]
          }
        },
        "0afe040cc1834548b4b852f97fa09129": {
          "model_module": "@jupyter-widgets/base",
          "model_name": "LayoutModel",
          "model_module_version": "1.2.0",
          "state": {
            "_view_name": "LayoutView",
            "grid_template_rows": null,
            "right": null,
            "justify_content": null,
            "_view_module": "@jupyter-widgets/base",
            "overflow": null,
            "_model_module_version": "1.2.0",
            "_view_count": null,
            "flex_flow": null,
            "width": null,
            "min_width": null,
            "border": null,
            "align_items": null,
            "bottom": null,
            "_model_module": "@jupyter-widgets/base",
            "top": null,
            "grid_column": null,
            "overflow_y": null,
            "overflow_x": null,
            "grid_auto_flow": null,
            "grid_area": null,
            "grid_template_columns": null,
            "flex": null,
            "_model_name": "LayoutModel",
            "justify_items": null,
            "grid_row": null,
            "max_height": null,
            "align_content": null,
            "visibility": null,
            "align_self": null,
            "height": null,
            "min_height": null,
            "padding": null,
            "grid_auto_rows": null,
            "grid_gap": null,
            "max_width": null,
            "order": null,
            "_view_module_version": "1.2.0",
            "grid_template_areas": null,
            "object_position": null,
            "object_fit": null,
            "grid_auto_columns": null,
            "margin": null,
            "display": null,
            "left": null
          }
        },
        "9e08ebdc7ffc40dfaf0f5b5d343040bb": {
          "model_module": "@jupyter-widgets/controls",
          "model_name": "HTMLModel",
          "model_module_version": "1.5.0",
          "state": {
            "_view_name": "HTMLView",
            "style": "IPY_MODEL_355e8e107a814fd6802282b4f7f27a1a",
            "_dom_classes": [],
            "description": "",
            "_model_name": "HTMLModel",
            "placeholder": "​",
            "_view_module": "@jupyter-widgets/controls",
            "_model_module_version": "1.5.0",
            "value": "Downloading: ",
            "_view_count": null,
            "_view_module_version": "1.5.0",
            "description_tooltip": null,
            "_model_module": "@jupyter-widgets/controls",
            "layout": "IPY_MODEL_6b1789e6d23e426184956979e9acf15c"
          }
        },
        "cdc481e3a30148f788e05f5cfda6eb7d": {
          "model_module": "@jupyter-widgets/controls",
          "model_name": "FloatProgressModel",
          "model_module_version": "1.5.0",
          "state": {
            "_view_name": "ProgressView",
            "style": "IPY_MODEL_11fb7607023445f2acae81a415636549",
            "_dom_classes": [],
            "description": "",
            "_model_name": "FloatProgressModel",
            "bar_style": "success",
            "max": 2373,
            "_view_module": "@jupyter-widgets/controls",
            "_model_module_version": "1.5.0",
            "value": 2373,
            "_view_count": null,
            "_view_module_version": "1.5.0",
            "orientation": "horizontal",
            "min": 0,
            "description_tooltip": null,
            "_model_module": "@jupyter-widgets/controls",
            "layout": "IPY_MODEL_ca4b7acbfca6478983c765db87f5068e"
          }
        },
        "c5ae3f94903f48b9996554b2b5899967": {
          "model_module": "@jupyter-widgets/controls",
          "model_name": "HTMLModel",
          "model_module_version": "1.5.0",
          "state": {
            "_view_name": "HTMLView",
            "style": "IPY_MODEL_ddddead89a9c463d92d9de4679925a2b",
            "_dom_classes": [],
            "description": "",
            "_model_name": "HTMLModel",
            "placeholder": "​",
            "_view_module": "@jupyter-widgets/controls",
            "_model_module_version": "1.5.0",
            "value": " 19.9k/? [00:00&lt;00:00, 704kB/s]",
            "_view_count": null,
            "_view_module_version": "1.5.0",
            "description_tooltip": null,
            "_model_module": "@jupyter-widgets/controls",
            "layout": "IPY_MODEL_ad6ae26b6fd24aadbbe0e88887b36695"
          }
        },
        "355e8e107a814fd6802282b4f7f27a1a": {
          "model_module": "@jupyter-widgets/controls",
          "model_name": "DescriptionStyleModel",
          "model_module_version": "1.5.0",
          "state": {
            "_view_name": "StyleView",
            "_model_name": "DescriptionStyleModel",
            "description_width": "",
            "_view_module": "@jupyter-widgets/base",
            "_model_module_version": "1.5.0",
            "_view_count": null,
            "_view_module_version": "1.2.0",
            "_model_module": "@jupyter-widgets/controls"
          }
        },
        "6b1789e6d23e426184956979e9acf15c": {
          "model_module": "@jupyter-widgets/base",
          "model_name": "LayoutModel",
          "model_module_version": "1.2.0",
          "state": {
            "_view_name": "LayoutView",
            "grid_template_rows": null,
            "right": null,
            "justify_content": null,
            "_view_module": "@jupyter-widgets/base",
            "overflow": null,
            "_model_module_version": "1.2.0",
            "_view_count": null,
            "flex_flow": null,
            "width": null,
            "min_width": null,
            "border": null,
            "align_items": null,
            "bottom": null,
            "_model_module": "@jupyter-widgets/base",
            "top": null,
            "grid_column": null,
            "overflow_y": null,
            "overflow_x": null,
            "grid_auto_flow": null,
            "grid_area": null,
            "grid_template_columns": null,
            "flex": null,
            "_model_name": "LayoutModel",
            "justify_items": null,
            "grid_row": null,
            "max_height": null,
            "align_content": null,
            "visibility": null,
            "align_self": null,
            "height": null,
            "min_height": null,
            "padding": null,
            "grid_auto_rows": null,
            "grid_gap": null,
            "max_width": null,
            "order": null,
            "_view_module_version": "1.2.0",
            "grid_template_areas": null,
            "object_position": null,
            "object_fit": null,
            "grid_auto_columns": null,
            "margin": null,
            "display": null,
            "left": null
          }
        },
        "11fb7607023445f2acae81a415636549": {
          "model_module": "@jupyter-widgets/controls",
          "model_name": "ProgressStyleModel",
          "model_module_version": "1.5.0",
          "state": {
            "_view_name": "StyleView",
            "_model_name": "ProgressStyleModel",
            "description_width": "",
            "_view_module": "@jupyter-widgets/base",
            "_model_module_version": "1.5.0",
            "_view_count": null,
            "_view_module_version": "1.2.0",
            "bar_color": null,
            "_model_module": "@jupyter-widgets/controls"
          }
        },
        "ca4b7acbfca6478983c765db87f5068e": {
          "model_module": "@jupyter-widgets/base",
          "model_name": "LayoutModel",
          "model_module_version": "1.2.0",
          "state": {
            "_view_name": "LayoutView",
            "grid_template_rows": null,
            "right": null,
            "justify_content": null,
            "_view_module": "@jupyter-widgets/base",
            "overflow": null,
            "_model_module_version": "1.2.0",
            "_view_count": null,
            "flex_flow": null,
            "width": null,
            "min_width": null,
            "border": null,
            "align_items": null,
            "bottom": null,
            "_model_module": "@jupyter-widgets/base",
            "top": null,
            "grid_column": null,
            "overflow_y": null,
            "overflow_x": null,
            "grid_auto_flow": null,
            "grid_area": null,
            "grid_template_columns": null,
            "flex": null,
            "_model_name": "LayoutModel",
            "justify_items": null,
            "grid_row": null,
            "max_height": null,
            "align_content": null,
            "visibility": null,
            "align_self": null,
            "height": null,
            "min_height": null,
            "padding": null,
            "grid_auto_rows": null,
            "grid_gap": null,
            "max_width": null,
            "order": null,
            "_view_module_version": "1.2.0",
            "grid_template_areas": null,
            "object_position": null,
            "object_fit": null,
            "grid_auto_columns": null,
            "margin": null,
            "display": null,
            "left": null
          }
        },
        "ddddead89a9c463d92d9de4679925a2b": {
          "model_module": "@jupyter-widgets/controls",
          "model_name": "DescriptionStyleModel",
          "model_module_version": "1.5.0",
          "state": {
            "_view_name": "StyleView",
            "_model_name": "DescriptionStyleModel",
            "description_width": "",
            "_view_module": "@jupyter-widgets/base",
            "_model_module_version": "1.5.0",
            "_view_count": null,
            "_view_module_version": "1.2.0",
            "_model_module": "@jupyter-widgets/controls"
          }
        },
        "ad6ae26b6fd24aadbbe0e88887b36695": {
          "model_module": "@jupyter-widgets/base",
          "model_name": "LayoutModel",
          "model_module_version": "1.2.0",
          "state": {
            "_view_name": "LayoutView",
            "grid_template_rows": null,
            "right": null,
            "justify_content": null,
            "_view_module": "@jupyter-widgets/base",
            "overflow": null,
            "_model_module_version": "1.2.0",
            "_view_count": null,
            "flex_flow": null,
            "width": null,
            "min_width": null,
            "border": null,
            "align_items": null,
            "bottom": null,
            "_model_module": "@jupyter-widgets/base",
            "top": null,
            "grid_column": null,
            "overflow_y": null,
            "overflow_x": null,
            "grid_auto_flow": null,
            "grid_area": null,
            "grid_template_columns": null,
            "flex": null,
            "_model_name": "LayoutModel",
            "justify_items": null,
            "grid_row": null,
            "max_height": null,
            "align_content": null,
            "visibility": null,
            "align_self": null,
            "height": null,
            "min_height": null,
            "padding": null,
            "grid_auto_rows": null,
            "grid_gap": null,
            "max_width": null,
            "order": null,
            "_view_module_version": "1.2.0",
            "grid_template_areas": null,
            "object_position": null,
            "object_fit": null,
            "grid_auto_columns": null,
            "margin": null,
            "display": null,
            "left": null
          }
        },
        "33b3b1076941435784fa48adb301a01f": {
          "model_module": "@jupyter-widgets/controls",
          "model_name": "HBoxModel",
          "model_module_version": "1.5.0",
          "state": {
            "_view_name": "HBoxView",
            "_dom_classes": [],
            "_model_name": "HBoxModel",
            "_view_module": "@jupyter-widgets/controls",
            "_model_module_version": "1.5.0",
            "_view_count": null,
            "_view_module_version": "1.5.0",
            "box_style": "",
            "layout": "IPY_MODEL_fa1f07ee77574a56a256b02c68bf719f",
            "_model_module": "@jupyter-widgets/controls",
            "children": [
              "IPY_MODEL_f71df8e2a32a46d69e1e42bd0a4e993c",
              "IPY_MODEL_859a263f51c848c4a4bcc162913ede2a",
              "IPY_MODEL_1043a4614436466fa02f13e63b9d56b3"
            ]
          }
        },
        "fa1f07ee77574a56a256b02c68bf719f": {
          "model_module": "@jupyter-widgets/base",
          "model_name": "LayoutModel",
          "model_module_version": "1.2.0",
          "state": {
            "_view_name": "LayoutView",
            "grid_template_rows": null,
            "right": null,
            "justify_content": null,
            "_view_module": "@jupyter-widgets/base",
            "overflow": null,
            "_model_module_version": "1.2.0",
            "_view_count": null,
            "flex_flow": null,
            "width": null,
            "min_width": null,
            "border": null,
            "align_items": null,
            "bottom": null,
            "_model_module": "@jupyter-widgets/base",
            "top": null,
            "grid_column": null,
            "overflow_y": null,
            "overflow_x": null,
            "grid_auto_flow": null,
            "grid_area": null,
            "grid_template_columns": null,
            "flex": null,
            "_model_name": "LayoutModel",
            "justify_items": null,
            "grid_row": null,
            "max_height": null,
            "align_content": null,
            "visibility": null,
            "align_self": null,
            "height": null,
            "min_height": null,
            "padding": null,
            "grid_auto_rows": null,
            "grid_gap": null,
            "max_width": null,
            "order": null,
            "_view_module_version": "1.2.0",
            "grid_template_areas": null,
            "object_position": null,
            "object_fit": null,
            "grid_auto_columns": null,
            "margin": null,
            "display": null,
            "left": null
          }
        },
        "f71df8e2a32a46d69e1e42bd0a4e993c": {
          "model_module": "@jupyter-widgets/controls",
          "model_name": "HTMLModel",
          "model_module_version": "1.5.0",
          "state": {
            "_view_name": "HTMLView",
            "style": "IPY_MODEL_7840a0ad99194f0eae281a8e4f543c84",
            "_dom_classes": [],
            "description": "",
            "_model_name": "HTMLModel",
            "placeholder": "​",
            "_view_module": "@jupyter-widgets/controls",
            "_model_module_version": "1.5.0",
            "value": "Downloading: 100%",
            "_view_count": null,
            "_view_module_version": "1.5.0",
            "description_tooltip": null,
            "_model_module": "@jupyter-widgets/controls",
            "layout": "IPY_MODEL_45c5c4099ebc440a8d196cbc714d958e"
          }
        },
        "859a263f51c848c4a4bcc162913ede2a": {
          "model_module": "@jupyter-widgets/controls",
          "model_name": "FloatProgressModel",
          "model_module_version": "1.5.0",
          "state": {
            "_view_name": "ProgressView",
            "style": "IPY_MODEL_23a49de90ec149338761b491c96270c2",
            "_dom_classes": [],
            "description": "",
            "_model_name": "FloatProgressModel",
            "bar_style": "success",
            "max": 8150596,
            "_view_module": "@jupyter-widgets/controls",
            "_model_module_version": "1.5.0",
            "value": 8150596,
            "_view_count": null,
            "_view_module_version": "1.5.0",
            "orientation": "horizontal",
            "min": 0,
            "description_tooltip": null,
            "_model_module": "@jupyter-widgets/controls",
            "layout": "IPY_MODEL_5a39b1a2edb04f01871b5ba8cbec3372"
          }
        },
        "1043a4614436466fa02f13e63b9d56b3": {
          "model_module": "@jupyter-widgets/controls",
          "model_name": "HTMLModel",
          "model_module_version": "1.5.0",
          "state": {
            "_view_name": "HTMLView",
            "style": "IPY_MODEL_a8784932f3e34dde9071b8db7a547c5d",
            "_dom_classes": [],
            "description": "",
            "_model_name": "HTMLModel",
            "placeholder": "​",
            "_view_module": "@jupyter-widgets/controls",
            "_model_module_version": "1.5.0",
            "value": " 8.15M/8.15M [00:00&lt;00:00, 20.7MB/s]",
            "_view_count": null,
            "_view_module_version": "1.5.0",
            "description_tooltip": null,
            "_model_module": "@jupyter-widgets/controls",
            "layout": "IPY_MODEL_903c1efdc10a43789b13dc2e75e2c29e"
          }
        },
        "7840a0ad99194f0eae281a8e4f543c84": {
          "model_module": "@jupyter-widgets/controls",
          "model_name": "DescriptionStyleModel",
          "model_module_version": "1.5.0",
          "state": {
            "_view_name": "StyleView",
            "_model_name": "DescriptionStyleModel",
            "description_width": "",
            "_view_module": "@jupyter-widgets/base",
            "_model_module_version": "1.5.0",
            "_view_count": null,
            "_view_module_version": "1.2.0",
            "_model_module": "@jupyter-widgets/controls"
          }
        },
        "45c5c4099ebc440a8d196cbc714d958e": {
          "model_module": "@jupyter-widgets/base",
          "model_name": "LayoutModel",
          "model_module_version": "1.2.0",
          "state": {
            "_view_name": "LayoutView",
            "grid_template_rows": null,
            "right": null,
            "justify_content": null,
            "_view_module": "@jupyter-widgets/base",
            "overflow": null,
            "_model_module_version": "1.2.0",
            "_view_count": null,
            "flex_flow": null,
            "width": null,
            "min_width": null,
            "border": null,
            "align_items": null,
            "bottom": null,
            "_model_module": "@jupyter-widgets/base",
            "top": null,
            "grid_column": null,
            "overflow_y": null,
            "overflow_x": null,
            "grid_auto_flow": null,
            "grid_area": null,
            "grid_template_columns": null,
            "flex": null,
            "_model_name": "LayoutModel",
            "justify_items": null,
            "grid_row": null,
            "max_height": null,
            "align_content": null,
            "visibility": null,
            "align_self": null,
            "height": null,
            "min_height": null,
            "padding": null,
            "grid_auto_rows": null,
            "grid_gap": null,
            "max_width": null,
            "order": null,
            "_view_module_version": "1.2.0",
            "grid_template_areas": null,
            "object_position": null,
            "object_fit": null,
            "grid_auto_columns": null,
            "margin": null,
            "display": null,
            "left": null
          }
        },
        "23a49de90ec149338761b491c96270c2": {
          "model_module": "@jupyter-widgets/controls",
          "model_name": "ProgressStyleModel",
          "model_module_version": "1.5.0",
          "state": {
            "_view_name": "StyleView",
            "_model_name": "ProgressStyleModel",
            "description_width": "",
            "_view_module": "@jupyter-widgets/base",
            "_model_module_version": "1.5.0",
            "_view_count": null,
            "_view_module_version": "1.2.0",
            "bar_color": null,
            "_model_module": "@jupyter-widgets/controls"
          }
        },
        "5a39b1a2edb04f01871b5ba8cbec3372": {
          "model_module": "@jupyter-widgets/base",
          "model_name": "LayoutModel",
          "model_module_version": "1.2.0",
          "state": {
            "_view_name": "LayoutView",
            "grid_template_rows": null,
            "right": null,
            "justify_content": null,
            "_view_module": "@jupyter-widgets/base",
            "overflow": null,
            "_model_module_version": "1.2.0",
            "_view_count": null,
            "flex_flow": null,
            "width": null,
            "min_width": null,
            "border": null,
            "align_items": null,
            "bottom": null,
            "_model_module": "@jupyter-widgets/base",
            "top": null,
            "grid_column": null,
            "overflow_y": null,
            "overflow_x": null,
            "grid_auto_flow": null,
            "grid_area": null,
            "grid_template_columns": null,
            "flex": null,
            "_model_name": "LayoutModel",
            "justify_items": null,
            "grid_row": null,
            "max_height": null,
            "align_content": null,
            "visibility": null,
            "align_self": null,
            "height": null,
            "min_height": null,
            "padding": null,
            "grid_auto_rows": null,
            "grid_gap": null,
            "max_width": null,
            "order": null,
            "_view_module_version": "1.2.0",
            "grid_template_areas": null,
            "object_position": null,
            "object_fit": null,
            "grid_auto_columns": null,
            "margin": null,
            "display": null,
            "left": null
          }
        },
        "a8784932f3e34dde9071b8db7a547c5d": {
          "model_module": "@jupyter-widgets/controls",
          "model_name": "DescriptionStyleModel",
          "model_module_version": "1.5.0",
          "state": {
            "_view_name": "StyleView",
            "_model_name": "DescriptionStyleModel",
            "description_width": "",
            "_view_module": "@jupyter-widgets/base",
            "_model_module_version": "1.5.0",
            "_view_count": null,
            "_view_module_version": "1.2.0",
            "_model_module": "@jupyter-widgets/controls"
          }
        },
        "903c1efdc10a43789b13dc2e75e2c29e": {
          "model_module": "@jupyter-widgets/base",
          "model_name": "LayoutModel",
          "model_module_version": "1.2.0",
          "state": {
            "_view_name": "LayoutView",
            "grid_template_rows": null,
            "right": null,
            "justify_content": null,
            "_view_module": "@jupyter-widgets/base",
            "overflow": null,
            "_model_module_version": "1.2.0",
            "_view_count": null,
            "flex_flow": null,
            "width": null,
            "min_width": null,
            "border": null,
            "align_items": null,
            "bottom": null,
            "_model_module": "@jupyter-widgets/base",
            "top": null,
            "grid_column": null,
            "overflow_y": null,
            "overflow_x": null,
            "grid_auto_flow": null,
            "grid_area": null,
            "grid_template_columns": null,
            "flex": null,
            "_model_name": "LayoutModel",
            "justify_items": null,
            "grid_row": null,
            "max_height": null,
            "align_content": null,
            "visibility": null,
            "align_self": null,
            "height": null,
            "min_height": null,
            "padding": null,
            "grid_auto_rows": null,
            "grid_gap": null,
            "max_width": null,
            "order": null,
            "_view_module_version": "1.2.0",
            "grid_template_areas": null,
            "object_position": null,
            "object_fit": null,
            "grid_auto_columns": null,
            "margin": null,
            "display": null,
            "left": null
          }
        },
        "e4442066c7fb48a5bdb401f4176a0353": {
          "model_module": "@jupyter-widgets/controls",
          "model_name": "HBoxModel",
          "model_module_version": "1.5.0",
          "state": {
            "_view_name": "HBoxView",
            "_dom_classes": [],
            "_model_name": "HBoxModel",
            "_view_module": "@jupyter-widgets/controls",
            "_model_module_version": "1.5.0",
            "_view_count": null,
            "_view_module_version": "1.5.0",
            "box_style": "",
            "layout": "IPY_MODEL_0e08e54d55df497796e0e8114d5309bc",
            "_model_module": "@jupyter-widgets/controls",
            "children": [
              "IPY_MODEL_082a46648f154671b6441927b83125fa",
              "IPY_MODEL_7b25a1a58db14e67979ff65fb9e8d8c9",
              "IPY_MODEL_802d9631dd064d8eae37fc66dc150b38"
            ]
          }
        },
        "0e08e54d55df497796e0e8114d5309bc": {
          "model_module": "@jupyter-widgets/base",
          "model_name": "LayoutModel",
          "model_module_version": "1.2.0",
          "state": {
            "_view_name": "LayoutView",
            "grid_template_rows": null,
            "right": null,
            "justify_content": null,
            "_view_module": "@jupyter-widgets/base",
            "overflow": null,
            "_model_module_version": "1.2.0",
            "_view_count": null,
            "flex_flow": null,
            "width": null,
            "min_width": null,
            "border": null,
            "align_items": null,
            "bottom": null,
            "_model_module": "@jupyter-widgets/base",
            "top": null,
            "grid_column": null,
            "overflow_y": null,
            "overflow_x": null,
            "grid_auto_flow": null,
            "grid_area": null,
            "grid_template_columns": null,
            "flex": null,
            "_model_name": "LayoutModel",
            "justify_items": null,
            "grid_row": null,
            "max_height": null,
            "align_content": null,
            "visibility": null,
            "align_self": null,
            "height": null,
            "min_height": null,
            "padding": null,
            "grid_auto_rows": null,
            "grid_gap": null,
            "max_width": null,
            "order": null,
            "_view_module_version": "1.2.0",
            "grid_template_areas": null,
            "object_position": null,
            "object_fit": null,
            "grid_auto_columns": null,
            "margin": null,
            "display": null,
            "left": null
          }
        },
        "082a46648f154671b6441927b83125fa": {
          "model_module": "@jupyter-widgets/controls",
          "model_name": "HTMLModel",
          "model_module_version": "1.5.0",
          "state": {
            "_view_name": "HTMLView",
            "style": "IPY_MODEL_8c8b62c9928949d08a7f3e440a2f490c",
            "_dom_classes": [],
            "description": "",
            "_model_name": "HTMLModel",
            "placeholder": "​",
            "_view_module": "@jupyter-widgets/controls",
            "_model_module_version": "1.5.0",
            "value": "",
            "_view_count": null,
            "_view_module_version": "1.5.0",
            "description_tooltip": null,
            "_model_module": "@jupyter-widgets/controls",
            "layout": "IPY_MODEL_56fd0607439740f0a0e7cb1be3144925"
          }
        },
        "7b25a1a58db14e67979ff65fb9e8d8c9": {
          "model_module": "@jupyter-widgets/controls",
          "model_name": "FloatProgressModel",
          "model_module_version": "1.5.0",
          "state": {
            "_view_name": "ProgressView",
            "style": "IPY_MODEL_e61c6c11423b4902b5c813081b4258a8",
            "_dom_classes": [],
            "description": "",
            "_model_name": "FloatProgressModel",
            "bar_style": "info",
            "max": 1,
            "_view_module": "@jupyter-widgets/controls",
            "_model_module_version": "1.5.0",
            "value": 1,
            "_view_count": null,
            "_view_module_version": "1.5.0",
            "orientation": "horizontal",
            "min": 0,
            "description_tooltip": null,
            "_model_module": "@jupyter-widgets/controls",
            "layout": "IPY_MODEL_b7b7c22250d54122a71a432a1ae88a09"
          }
        },
        "802d9631dd064d8eae37fc66dc150b38": {
          "model_module": "@jupyter-widgets/controls",
          "model_name": "HTMLModel",
          "model_module_version": "1.5.0",
          "state": {
            "_view_name": "HTMLView",
            "style": "IPY_MODEL_9090ec06cf254064ae1e1fc277a3fa29",
            "_dom_classes": [],
            "description": "",
            "_model_name": "HTMLModel",
            "placeholder": "​",
            "_view_module": "@jupyter-widgets/controls",
            "_model_module_version": "1.5.0",
            "value": " 3129/0 [00:01&lt;00:00, 3799.74 examples/s]",
            "_view_count": null,
            "_view_module_version": "1.5.0",
            "description_tooltip": null,
            "_model_module": "@jupyter-widgets/controls",
            "layout": "IPY_MODEL_360b369b333741d6be65e4ad8ef13388"
          }
        },
        "8c8b62c9928949d08a7f3e440a2f490c": {
          "model_module": "@jupyter-widgets/controls",
          "model_name": "DescriptionStyleModel",
          "model_module_version": "1.5.0",
          "state": {
            "_view_name": "StyleView",
            "_model_name": "DescriptionStyleModel",
            "description_width": "",
            "_view_module": "@jupyter-widgets/base",
            "_model_module_version": "1.5.0",
            "_view_count": null,
            "_view_module_version": "1.2.0",
            "_model_module": "@jupyter-widgets/controls"
          }
        },
        "56fd0607439740f0a0e7cb1be3144925": {
          "model_module": "@jupyter-widgets/base",
          "model_name": "LayoutModel",
          "model_module_version": "1.2.0",
          "state": {
            "_view_name": "LayoutView",
            "grid_template_rows": null,
            "right": null,
            "justify_content": null,
            "_view_module": "@jupyter-widgets/base",
            "overflow": null,
            "_model_module_version": "1.2.0",
            "_view_count": null,
            "flex_flow": null,
            "width": null,
            "min_width": null,
            "border": null,
            "align_items": null,
            "bottom": null,
            "_model_module": "@jupyter-widgets/base",
            "top": null,
            "grid_column": null,
            "overflow_y": null,
            "overflow_x": null,
            "grid_auto_flow": null,
            "grid_area": null,
            "grid_template_columns": null,
            "flex": null,
            "_model_name": "LayoutModel",
            "justify_items": null,
            "grid_row": null,
            "max_height": null,
            "align_content": null,
            "visibility": null,
            "align_self": null,
            "height": null,
            "min_height": null,
            "padding": null,
            "grid_auto_rows": null,
            "grid_gap": null,
            "max_width": null,
            "order": null,
            "_view_module_version": "1.2.0",
            "grid_template_areas": null,
            "object_position": null,
            "object_fit": null,
            "grid_auto_columns": null,
            "margin": null,
            "display": null,
            "left": null
          }
        },
        "e61c6c11423b4902b5c813081b4258a8": {
          "model_module": "@jupyter-widgets/controls",
          "model_name": "ProgressStyleModel",
          "model_module_version": "1.5.0",
          "state": {
            "_view_name": "StyleView",
            "_model_name": "ProgressStyleModel",
            "description_width": "",
            "_view_module": "@jupyter-widgets/base",
            "_model_module_version": "1.5.0",
            "_view_count": null,
            "_view_module_version": "1.2.0",
            "bar_color": null,
            "_model_module": "@jupyter-widgets/controls"
          }
        },
        "b7b7c22250d54122a71a432a1ae88a09": {
          "model_module": "@jupyter-widgets/base",
          "model_name": "LayoutModel",
          "model_module_version": "1.2.0",
          "state": {
            "_view_name": "LayoutView",
            "grid_template_rows": null,
            "right": null,
            "justify_content": null,
            "_view_module": "@jupyter-widgets/base",
            "overflow": null,
            "_model_module_version": "1.2.0",
            "_view_count": null,
            "flex_flow": null,
            "width": "20px",
            "min_width": null,
            "border": null,
            "align_items": null,
            "bottom": null,
            "_model_module": "@jupyter-widgets/base",
            "top": null,
            "grid_column": null,
            "overflow_y": null,
            "overflow_x": null,
            "grid_auto_flow": null,
            "grid_area": null,
            "grid_template_columns": null,
            "flex": null,
            "_model_name": "LayoutModel",
            "justify_items": null,
            "grid_row": null,
            "max_height": null,
            "align_content": null,
            "visibility": null,
            "align_self": null,
            "height": null,
            "min_height": null,
            "padding": null,
            "grid_auto_rows": null,
            "grid_gap": null,
            "max_width": null,
            "order": null,
            "_view_module_version": "1.2.0",
            "grid_template_areas": null,
            "object_position": null,
            "object_fit": null,
            "grid_auto_columns": null,
            "margin": null,
            "display": null,
            "left": null
          }
        },
        "9090ec06cf254064ae1e1fc277a3fa29": {
          "model_module": "@jupyter-widgets/controls",
          "model_name": "DescriptionStyleModel",
          "model_module_version": "1.5.0",
          "state": {
            "_view_name": "StyleView",
            "_model_name": "DescriptionStyleModel",
            "description_width": "",
            "_view_module": "@jupyter-widgets/base",
            "_model_module_version": "1.5.0",
            "_view_count": null,
            "_view_module_version": "1.2.0",
            "_model_module": "@jupyter-widgets/controls"
          }
        },
        "360b369b333741d6be65e4ad8ef13388": {
          "model_module": "@jupyter-widgets/base",
          "model_name": "LayoutModel",
          "model_module_version": "1.2.0",
          "state": {
            "_view_name": "LayoutView",
            "grid_template_rows": null,
            "right": null,
            "justify_content": null,
            "_view_module": "@jupyter-widgets/base",
            "overflow": null,
            "_model_module_version": "1.2.0",
            "_view_count": null,
            "flex_flow": null,
            "width": null,
            "min_width": null,
            "border": null,
            "align_items": null,
            "bottom": null,
            "_model_module": "@jupyter-widgets/base",
            "top": null,
            "grid_column": null,
            "overflow_y": null,
            "overflow_x": null,
            "grid_auto_flow": null,
            "grid_area": null,
            "grid_template_columns": null,
            "flex": null,
            "_model_name": "LayoutModel",
            "justify_items": null,
            "grid_row": null,
            "max_height": null,
            "align_content": null,
            "visibility": null,
            "align_self": null,
            "height": null,
            "min_height": null,
            "padding": null,
            "grid_auto_rows": null,
            "grid_gap": null,
            "max_width": null,
            "order": null,
            "_view_module_version": "1.2.0",
            "grid_template_areas": null,
            "object_position": null,
            "object_fit": null,
            "grid_auto_columns": null,
            "margin": null,
            "display": null,
            "left": null
          }
        },
        "2ac11898541e456b96a3a507f73ae9c9": {
          "model_module": "@jupyter-widgets/controls",
          "model_name": "HBoxModel",
          "model_module_version": "1.5.0",
          "state": {
            "_view_name": "HBoxView",
            "_dom_classes": [],
            "_model_name": "HBoxModel",
            "_view_module": "@jupyter-widgets/controls",
            "_model_module_version": "1.5.0",
            "_view_count": null,
            "_view_module_version": "1.5.0",
            "box_style": "",
            "layout": "IPY_MODEL_d717459c90c94e65b24f91706c8af208",
            "_model_module": "@jupyter-widgets/controls",
            "children": [
              "IPY_MODEL_6af2ce0d42134674a13af6a3fa0a3832",
              "IPY_MODEL_a0c0e34a3c15456884e5a1a60e7efc41",
              "IPY_MODEL_2e95e8a8929e4a718b5a6ad6a7124d81"
            ]
          }
        },
        "d717459c90c94e65b24f91706c8af208": {
          "model_module": "@jupyter-widgets/base",
          "model_name": "LayoutModel",
          "model_module_version": "1.2.0",
          "state": {
            "_view_name": "LayoutView",
            "grid_template_rows": null,
            "right": null,
            "justify_content": null,
            "_view_module": "@jupyter-widgets/base",
            "overflow": null,
            "_model_module_version": "1.2.0",
            "_view_count": null,
            "flex_flow": null,
            "width": null,
            "min_width": null,
            "border": null,
            "align_items": null,
            "bottom": null,
            "_model_module": "@jupyter-widgets/base",
            "top": null,
            "grid_column": null,
            "overflow_y": null,
            "overflow_x": null,
            "grid_auto_flow": null,
            "grid_area": null,
            "grid_template_columns": null,
            "flex": null,
            "_model_name": "LayoutModel",
            "justify_items": null,
            "grid_row": null,
            "max_height": null,
            "align_content": null,
            "visibility": null,
            "align_self": null,
            "height": null,
            "min_height": null,
            "padding": null,
            "grid_auto_rows": null,
            "grid_gap": null,
            "max_width": null,
            "order": null,
            "_view_module_version": "1.2.0",
            "grid_template_areas": null,
            "object_position": null,
            "object_fit": null,
            "grid_auto_columns": null,
            "margin": null,
            "display": null,
            "left": null
          }
        },
        "6af2ce0d42134674a13af6a3fa0a3832": {
          "model_module": "@jupyter-widgets/controls",
          "model_name": "HTMLModel",
          "model_module_version": "1.5.0",
          "state": {
            "_view_name": "HTMLView",
            "style": "IPY_MODEL_5eb03942c12f40668651f20347d3ed4a",
            "_dom_classes": [],
            "description": "",
            "_model_name": "HTMLModel",
            "placeholder": "​",
            "_view_module": "@jupyter-widgets/controls",
            "_model_module_version": "1.5.0",
            "value": "",
            "_view_count": null,
            "_view_module_version": "1.5.0",
            "description_tooltip": null,
            "_model_module": "@jupyter-widgets/controls",
            "layout": "IPY_MODEL_c432a15929264c38bf2cdb8471562aea"
          }
        },
        "a0c0e34a3c15456884e5a1a60e7efc41": {
          "model_module": "@jupyter-widgets/controls",
          "model_name": "FloatProgressModel",
          "model_module_version": "1.5.0",
          "state": {
            "_view_name": "ProgressView",
            "style": "IPY_MODEL_d367d5e3168c4dbba56a12867c83264d",
            "_dom_classes": [],
            "description": "",
            "_model_name": "FloatProgressModel",
            "bar_style": "info",
            "max": 1,
            "_view_module": "@jupyter-widgets/controls",
            "_model_module_version": "1.5.0",
            "value": 1,
            "_view_count": null,
            "_view_module_version": "1.5.0",
            "orientation": "horizontal",
            "min": 0,
            "description_tooltip": null,
            "_model_module": "@jupyter-widgets/controls",
            "layout": "IPY_MODEL_7c55d35916af43ea90ea872219ebf3be"
          }
        },
        "2e95e8a8929e4a718b5a6ad6a7124d81": {
          "model_module": "@jupyter-widgets/controls",
          "model_name": "HTMLModel",
          "model_module_version": "1.5.0",
          "state": {
            "_view_name": "HTMLView",
            "style": "IPY_MODEL_66cf1d8eb90143dbab113c3d6087941a",
            "_dom_classes": [],
            "description": "",
            "_model_name": "HTMLModel",
            "placeholder": "​",
            "_view_module": "@jupyter-widgets/controls",
            "_model_module_version": "1.5.0",
            "value": " 9180/0 [00:01&lt;00:00, 4896.15 examples/s]",
            "_view_count": null,
            "_view_module_version": "1.5.0",
            "description_tooltip": null,
            "_model_module": "@jupyter-widgets/controls",
            "layout": "IPY_MODEL_a6bc0dfc8bc44a6e9e1848ef5b6816db"
          }
        },
        "5eb03942c12f40668651f20347d3ed4a": {
          "model_module": "@jupyter-widgets/controls",
          "model_name": "DescriptionStyleModel",
          "model_module_version": "1.5.0",
          "state": {
            "_view_name": "StyleView",
            "_model_name": "DescriptionStyleModel",
            "description_width": "",
            "_view_module": "@jupyter-widgets/base",
            "_model_module_version": "1.5.0",
            "_view_count": null,
            "_view_module_version": "1.2.0",
            "_model_module": "@jupyter-widgets/controls"
          }
        },
        "c432a15929264c38bf2cdb8471562aea": {
          "model_module": "@jupyter-widgets/base",
          "model_name": "LayoutModel",
          "model_module_version": "1.2.0",
          "state": {
            "_view_name": "LayoutView",
            "grid_template_rows": null,
            "right": null,
            "justify_content": null,
            "_view_module": "@jupyter-widgets/base",
            "overflow": null,
            "_model_module_version": "1.2.0",
            "_view_count": null,
            "flex_flow": null,
            "width": null,
            "min_width": null,
            "border": null,
            "align_items": null,
            "bottom": null,
            "_model_module": "@jupyter-widgets/base",
            "top": null,
            "grid_column": null,
            "overflow_y": null,
            "overflow_x": null,
            "grid_auto_flow": null,
            "grid_area": null,
            "grid_template_columns": null,
            "flex": null,
            "_model_name": "LayoutModel",
            "justify_items": null,
            "grid_row": null,
            "max_height": null,
            "align_content": null,
            "visibility": null,
            "align_self": null,
            "height": null,
            "min_height": null,
            "padding": null,
            "grid_auto_rows": null,
            "grid_gap": null,
            "max_width": null,
            "order": null,
            "_view_module_version": "1.2.0",
            "grid_template_areas": null,
            "object_position": null,
            "object_fit": null,
            "grid_auto_columns": null,
            "margin": null,
            "display": null,
            "left": null
          }
        },
        "d367d5e3168c4dbba56a12867c83264d": {
          "model_module": "@jupyter-widgets/controls",
          "model_name": "ProgressStyleModel",
          "model_module_version": "1.5.0",
          "state": {
            "_view_name": "StyleView",
            "_model_name": "ProgressStyleModel",
            "description_width": "",
            "_view_module": "@jupyter-widgets/base",
            "_model_module_version": "1.5.0",
            "_view_count": null,
            "_view_module_version": "1.2.0",
            "bar_color": null,
            "_model_module": "@jupyter-widgets/controls"
          }
        },
        "7c55d35916af43ea90ea872219ebf3be": {
          "model_module": "@jupyter-widgets/base",
          "model_name": "LayoutModel",
          "model_module_version": "1.2.0",
          "state": {
            "_view_name": "LayoutView",
            "grid_template_rows": null,
            "right": null,
            "justify_content": null,
            "_view_module": "@jupyter-widgets/base",
            "overflow": null,
            "_model_module_version": "1.2.0",
            "_view_count": null,
            "flex_flow": null,
            "width": "20px",
            "min_width": null,
            "border": null,
            "align_items": null,
            "bottom": null,
            "_model_module": "@jupyter-widgets/base",
            "top": null,
            "grid_column": null,
            "overflow_y": null,
            "overflow_x": null,
            "grid_auto_flow": null,
            "grid_area": null,
            "grid_template_columns": null,
            "flex": null,
            "_model_name": "LayoutModel",
            "justify_items": null,
            "grid_row": null,
            "max_height": null,
            "align_content": null,
            "visibility": null,
            "align_self": null,
            "height": null,
            "min_height": null,
            "padding": null,
            "grid_auto_rows": null,
            "grid_gap": null,
            "max_width": null,
            "order": null,
            "_view_module_version": "1.2.0",
            "grid_template_areas": null,
            "object_position": null,
            "object_fit": null,
            "grid_auto_columns": null,
            "margin": null,
            "display": null,
            "left": null
          }
        },
        "66cf1d8eb90143dbab113c3d6087941a": {
          "model_module": "@jupyter-widgets/controls",
          "model_name": "DescriptionStyleModel",
          "model_module_version": "1.5.0",
          "state": {
            "_view_name": "StyleView",
            "_model_name": "DescriptionStyleModel",
            "description_width": "",
            "_view_module": "@jupyter-widgets/base",
            "_model_module_version": "1.5.0",
            "_view_count": null,
            "_view_module_version": "1.2.0",
            "_model_module": "@jupyter-widgets/controls"
          }
        },
        "a6bc0dfc8bc44a6e9e1848ef5b6816db": {
          "model_module": "@jupyter-widgets/base",
          "model_name": "LayoutModel",
          "model_module_version": "1.2.0",
          "state": {
            "_view_name": "LayoutView",
            "grid_template_rows": null,
            "right": null,
            "justify_content": null,
            "_view_module": "@jupyter-widgets/base",
            "overflow": null,
            "_model_module_version": "1.2.0",
            "_view_count": null,
            "flex_flow": null,
            "width": null,
            "min_width": null,
            "border": null,
            "align_items": null,
            "bottom": null,
            "_model_module": "@jupyter-widgets/base",
            "top": null,
            "grid_column": null,
            "overflow_y": null,
            "overflow_x": null,
            "grid_auto_flow": null,
            "grid_area": null,
            "grid_template_columns": null,
            "flex": null,
            "_model_name": "LayoutModel",
            "justify_items": null,
            "grid_row": null,
            "max_height": null,
            "align_content": null,
            "visibility": null,
            "align_self": null,
            "height": null,
            "min_height": null,
            "padding": null,
            "grid_auto_rows": null,
            "grid_gap": null,
            "max_width": null,
            "order": null,
            "_view_module_version": "1.2.0",
            "grid_template_areas": null,
            "object_position": null,
            "object_fit": null,
            "grid_auto_columns": null,
            "margin": null,
            "display": null,
            "left": null
          }
        },
        "ea5ac008d65e4c30abf8a4870959d77a": {
          "model_module": "@jupyter-widgets/controls",
          "model_name": "HBoxModel",
          "model_module_version": "1.5.0",
          "state": {
            "_view_name": "HBoxView",
            "_dom_classes": [],
            "_model_name": "HBoxModel",
            "_view_module": "@jupyter-widgets/controls",
            "_model_module_version": "1.5.0",
            "_view_count": null,
            "_view_module_version": "1.5.0",
            "box_style": "",
            "layout": "IPY_MODEL_226147cd132344a5a9a160d468583f11",
            "_model_module": "@jupyter-widgets/controls",
            "children": [
              "IPY_MODEL_f2d7b64ebf1b433eb3f8c3202d3469f0",
              "IPY_MODEL_abc7a574478d4c31bc85ffee8f7fbeeb",
              "IPY_MODEL_6192648a326b40cd8ff06bcb4d2d54d3"
            ]
          }
        },
        "226147cd132344a5a9a160d468583f11": {
          "model_module": "@jupyter-widgets/base",
          "model_name": "LayoutModel",
          "model_module_version": "1.2.0",
          "state": {
            "_view_name": "LayoutView",
            "grid_template_rows": null,
            "right": null,
            "justify_content": null,
            "_view_module": "@jupyter-widgets/base",
            "overflow": null,
            "_model_module_version": "1.2.0",
            "_view_count": null,
            "flex_flow": null,
            "width": null,
            "min_width": null,
            "border": null,
            "align_items": null,
            "bottom": null,
            "_model_module": "@jupyter-widgets/base",
            "top": null,
            "grid_column": null,
            "overflow_y": null,
            "overflow_x": null,
            "grid_auto_flow": null,
            "grid_area": null,
            "grid_template_columns": null,
            "flex": null,
            "_model_name": "LayoutModel",
            "justify_items": null,
            "grid_row": null,
            "max_height": null,
            "align_content": null,
            "visibility": null,
            "align_self": null,
            "height": null,
            "min_height": null,
            "padding": null,
            "grid_auto_rows": null,
            "grid_gap": null,
            "max_width": null,
            "order": null,
            "_view_module_version": "1.2.0",
            "grid_template_areas": null,
            "object_position": null,
            "object_fit": null,
            "grid_auto_columns": null,
            "margin": null,
            "display": null,
            "left": null
          }
        },
        "f2d7b64ebf1b433eb3f8c3202d3469f0": {
          "model_module": "@jupyter-widgets/controls",
          "model_name": "HTMLModel",
          "model_module_version": "1.5.0",
          "state": {
            "_view_name": "HTMLView",
            "style": "IPY_MODEL_fbf84a36e57c4aef8720b0ba1d4cedf7",
            "_dom_classes": [],
            "description": "",
            "_model_name": "HTMLModel",
            "placeholder": "​",
            "_view_module": "@jupyter-widgets/controls",
            "_model_module_version": "1.5.0",
            "value": "",
            "_view_count": null,
            "_view_module_version": "1.5.0",
            "description_tooltip": null,
            "_model_module": "@jupyter-widgets/controls",
            "layout": "IPY_MODEL_a4a5f507eee3464f99dced5222db60b1"
          }
        },
        "abc7a574478d4c31bc85ffee8f7fbeeb": {
          "model_module": "@jupyter-widgets/controls",
          "model_name": "FloatProgressModel",
          "model_module_version": "1.5.0",
          "state": {
            "_view_name": "ProgressView",
            "style": "IPY_MODEL_a2dd53bddb314a038b7f50dd9bbf2a66",
            "_dom_classes": [],
            "description": "",
            "_model_name": "FloatProgressModel",
            "bar_style": "info",
            "max": 1,
            "_view_module": "@jupyter-widgets/controls",
            "_model_module_version": "1.5.0",
            "value": 1,
            "_view_count": null,
            "_view_module_version": "1.5.0",
            "orientation": "horizontal",
            "min": 0,
            "description_tooltip": null,
            "_model_module": "@jupyter-widgets/controls",
            "layout": "IPY_MODEL_fe92c0b3134040c3867d978b6e3e6589"
          }
        },
        "6192648a326b40cd8ff06bcb4d2d54d3": {
          "model_module": "@jupyter-widgets/controls",
          "model_name": "HTMLModel",
          "model_module_version": "1.5.0",
          "state": {
            "_view_name": "HTMLView",
            "style": "IPY_MODEL_f4bfdf7edda544fab463fe65e7e2b484",
            "_dom_classes": [],
            "description": "",
            "_model_name": "HTMLModel",
            "placeholder": "​",
            "_view_module": "@jupyter-widgets/controls",
            "_model_module_version": "1.5.0",
            "value": " 629/0 [00:00&lt;00:00, 1339.69 examples/s]",
            "_view_count": null,
            "_view_module_version": "1.5.0",
            "description_tooltip": null,
            "_model_module": "@jupyter-widgets/controls",
            "layout": "IPY_MODEL_54ce7e796e2c4af79e3f5623fb19d0f3"
          }
        },
        "fbf84a36e57c4aef8720b0ba1d4cedf7": {
          "model_module": "@jupyter-widgets/controls",
          "model_name": "DescriptionStyleModel",
          "model_module_version": "1.5.0",
          "state": {
            "_view_name": "StyleView",
            "_model_name": "DescriptionStyleModel",
            "description_width": "",
            "_view_module": "@jupyter-widgets/base",
            "_model_module_version": "1.5.0",
            "_view_count": null,
            "_view_module_version": "1.2.0",
            "_model_module": "@jupyter-widgets/controls"
          }
        },
        "a4a5f507eee3464f99dced5222db60b1": {
          "model_module": "@jupyter-widgets/base",
          "model_name": "LayoutModel",
          "model_module_version": "1.2.0",
          "state": {
            "_view_name": "LayoutView",
            "grid_template_rows": null,
            "right": null,
            "justify_content": null,
            "_view_module": "@jupyter-widgets/base",
            "overflow": null,
            "_model_module_version": "1.2.0",
            "_view_count": null,
            "flex_flow": null,
            "width": null,
            "min_width": null,
            "border": null,
            "align_items": null,
            "bottom": null,
            "_model_module": "@jupyter-widgets/base",
            "top": null,
            "grid_column": null,
            "overflow_y": null,
            "overflow_x": null,
            "grid_auto_flow": null,
            "grid_area": null,
            "grid_template_columns": null,
            "flex": null,
            "_model_name": "LayoutModel",
            "justify_items": null,
            "grid_row": null,
            "max_height": null,
            "align_content": null,
            "visibility": null,
            "align_self": null,
            "height": null,
            "min_height": null,
            "padding": null,
            "grid_auto_rows": null,
            "grid_gap": null,
            "max_width": null,
            "order": null,
            "_view_module_version": "1.2.0",
            "grid_template_areas": null,
            "object_position": null,
            "object_fit": null,
            "grid_auto_columns": null,
            "margin": null,
            "display": null,
            "left": null
          }
        },
        "a2dd53bddb314a038b7f50dd9bbf2a66": {
          "model_module": "@jupyter-widgets/controls",
          "model_name": "ProgressStyleModel",
          "model_module_version": "1.5.0",
          "state": {
            "_view_name": "StyleView",
            "_model_name": "ProgressStyleModel",
            "description_width": "",
            "_view_module": "@jupyter-widgets/base",
            "_model_module_version": "1.5.0",
            "_view_count": null,
            "_view_module_version": "1.2.0",
            "bar_color": null,
            "_model_module": "@jupyter-widgets/controls"
          }
        },
        "fe92c0b3134040c3867d978b6e3e6589": {
          "model_module": "@jupyter-widgets/base",
          "model_name": "LayoutModel",
          "model_module_version": "1.2.0",
          "state": {
            "_view_name": "LayoutView",
            "grid_template_rows": null,
            "right": null,
            "justify_content": null,
            "_view_module": "@jupyter-widgets/base",
            "overflow": null,
            "_model_module_version": "1.2.0",
            "_view_count": null,
            "flex_flow": null,
            "width": "20px",
            "min_width": null,
            "border": null,
            "align_items": null,
            "bottom": null,
            "_model_module": "@jupyter-widgets/base",
            "top": null,
            "grid_column": null,
            "overflow_y": null,
            "overflow_x": null,
            "grid_auto_flow": null,
            "grid_area": null,
            "grid_template_columns": null,
            "flex": null,
            "_model_name": "LayoutModel",
            "justify_items": null,
            "grid_row": null,
            "max_height": null,
            "align_content": null,
            "visibility": null,
            "align_self": null,
            "height": null,
            "min_height": null,
            "padding": null,
            "grid_auto_rows": null,
            "grid_gap": null,
            "max_width": null,
            "order": null,
            "_view_module_version": "1.2.0",
            "grid_template_areas": null,
            "object_position": null,
            "object_fit": null,
            "grid_auto_columns": null,
            "margin": null,
            "display": null,
            "left": null
          }
        },
        "f4bfdf7edda544fab463fe65e7e2b484": {
          "model_module": "@jupyter-widgets/controls",
          "model_name": "DescriptionStyleModel",
          "model_module_version": "1.5.0",
          "state": {
            "_view_name": "StyleView",
            "_model_name": "DescriptionStyleModel",
            "description_width": "",
            "_view_module": "@jupyter-widgets/base",
            "_model_module_version": "1.5.0",
            "_view_count": null,
            "_view_module_version": "1.2.0",
            "_model_module": "@jupyter-widgets/controls"
          }
        },
        "54ce7e796e2c4af79e3f5623fb19d0f3": {
          "model_module": "@jupyter-widgets/base",
          "model_name": "LayoutModel",
          "model_module_version": "1.2.0",
          "state": {
            "_view_name": "LayoutView",
            "grid_template_rows": null,
            "right": null,
            "justify_content": null,
            "_view_module": "@jupyter-widgets/base",
            "overflow": null,
            "_model_module_version": "1.2.0",
            "_view_count": null,
            "flex_flow": null,
            "width": null,
            "min_width": null,
            "border": null,
            "align_items": null,
            "bottom": null,
            "_model_module": "@jupyter-widgets/base",
            "top": null,
            "grid_column": null,
            "overflow_y": null,
            "overflow_x": null,
            "grid_auto_flow": null,
            "grid_area": null,
            "grid_template_columns": null,
            "flex": null,
            "_model_name": "LayoutModel",
            "justify_items": null,
            "grid_row": null,
            "max_height": null,
            "align_content": null,
            "visibility": null,
            "align_self": null,
            "height": null,
            "min_height": null,
            "padding": null,
            "grid_auto_rows": null,
            "grid_gap": null,
            "max_width": null,
            "order": null,
            "_view_module_version": "1.2.0",
            "grid_template_areas": null,
            "object_position": null,
            "object_fit": null,
            "grid_auto_columns": null,
            "margin": null,
            "display": null,
            "left": null
          }
        },
        "333cc272b7c74d099c8012c698b75bf9": {
          "model_module": "@jupyter-widgets/controls",
          "model_name": "HBoxModel",
          "model_module_version": "1.5.0",
          "state": {
            "_view_name": "HBoxView",
            "_dom_classes": [],
            "_model_name": "HBoxModel",
            "_view_module": "@jupyter-widgets/controls",
            "_model_module_version": "1.5.0",
            "_view_count": null,
            "_view_module_version": "1.5.0",
            "box_style": "",
            "layout": "IPY_MODEL_cafb44049cf248bc8238b17ee8f671cd",
            "_model_module": "@jupyter-widgets/controls",
            "children": [
              "IPY_MODEL_64945d0d8c9547c08d6718271028d7ac",
              "IPY_MODEL_f55f5df242374680906bdcab8d919bc8",
              "IPY_MODEL_b1d35ccff4bf4ac5ad0766003fe38303"
            ]
          }
        },
        "cafb44049cf248bc8238b17ee8f671cd": {
          "model_module": "@jupyter-widgets/base",
          "model_name": "LayoutModel",
          "model_module_version": "1.2.0",
          "state": {
            "_view_name": "LayoutView",
            "grid_template_rows": null,
            "right": null,
            "justify_content": null,
            "_view_module": "@jupyter-widgets/base",
            "overflow": null,
            "_model_module_version": "1.2.0",
            "_view_count": null,
            "flex_flow": null,
            "width": null,
            "min_width": null,
            "border": null,
            "align_items": null,
            "bottom": null,
            "_model_module": "@jupyter-widgets/base",
            "top": null,
            "grid_column": null,
            "overflow_y": null,
            "overflow_x": null,
            "grid_auto_flow": null,
            "grid_area": null,
            "grid_template_columns": null,
            "flex": null,
            "_model_name": "LayoutModel",
            "justify_items": null,
            "grid_row": null,
            "max_height": null,
            "align_content": null,
            "visibility": null,
            "align_self": null,
            "height": null,
            "min_height": null,
            "padding": null,
            "grid_auto_rows": null,
            "grid_gap": null,
            "max_width": null,
            "order": null,
            "_view_module_version": "1.2.0",
            "grid_template_areas": null,
            "object_position": null,
            "object_fit": null,
            "grid_auto_columns": null,
            "margin": null,
            "display": null,
            "left": null
          }
        },
        "64945d0d8c9547c08d6718271028d7ac": {
          "model_module": "@jupyter-widgets/controls",
          "model_name": "HTMLModel",
          "model_module_version": "1.5.0",
          "state": {
            "_view_name": "HTMLView",
            "style": "IPY_MODEL_47402042374b44a280bf6468b1cba23f",
            "_dom_classes": [],
            "description": "",
            "_model_name": "HTMLModel",
            "placeholder": "​",
            "_view_module": "@jupyter-widgets/controls",
            "_model_module_version": "1.5.0",
            "value": "100%",
            "_view_count": null,
            "_view_module_version": "1.5.0",
            "description_tooltip": null,
            "_model_module": "@jupyter-widgets/controls",
            "layout": "IPY_MODEL_c29f3cdb5be441b8ada116f1d1e60021"
          }
        },
        "f55f5df242374680906bdcab8d919bc8": {
          "model_module": "@jupyter-widgets/controls",
          "model_name": "FloatProgressModel",
          "model_module_version": "1.5.0",
          "state": {
            "_view_name": "ProgressView",
            "style": "IPY_MODEL_e498e8c9f15b4390b999415d76bedaa6",
            "_dom_classes": [],
            "description": "",
            "_model_name": "FloatProgressModel",
            "bar_style": "success",
            "max": 3,
            "_view_module": "@jupyter-widgets/controls",
            "_model_module_version": "1.5.0",
            "value": 3,
            "_view_count": null,
            "_view_module_version": "1.5.0",
            "orientation": "horizontal",
            "min": 0,
            "description_tooltip": null,
            "_model_module": "@jupyter-widgets/controls",
            "layout": "IPY_MODEL_5742c20ba8e94a5298f6dd1b78636ba9"
          }
        },
        "b1d35ccff4bf4ac5ad0766003fe38303": {
          "model_module": "@jupyter-widgets/controls",
          "model_name": "HTMLModel",
          "model_module_version": "1.5.0",
          "state": {
            "_view_name": "HTMLView",
            "style": "IPY_MODEL_e4563be90eb947cc9491c7f0588adbc0",
            "_dom_classes": [],
            "description": "",
            "_model_name": "HTMLModel",
            "placeholder": "​",
            "_view_module": "@jupyter-widgets/controls",
            "_model_module_version": "1.5.0",
            "value": " 3/3 [00:00&lt;00:00, 76.72it/s]",
            "_view_count": null,
            "_view_module_version": "1.5.0",
            "description_tooltip": null,
            "_model_module": "@jupyter-widgets/controls",
            "layout": "IPY_MODEL_b760580f913347b9aa98425dbb1a8f56"
          }
        },
        "47402042374b44a280bf6468b1cba23f": {
          "model_module": "@jupyter-widgets/controls",
          "model_name": "DescriptionStyleModel",
          "model_module_version": "1.5.0",
          "state": {
            "_view_name": "StyleView",
            "_model_name": "DescriptionStyleModel",
            "description_width": "",
            "_view_module": "@jupyter-widgets/base",
            "_model_module_version": "1.5.0",
            "_view_count": null,
            "_view_module_version": "1.2.0",
            "_model_module": "@jupyter-widgets/controls"
          }
        },
        "c29f3cdb5be441b8ada116f1d1e60021": {
          "model_module": "@jupyter-widgets/base",
          "model_name": "LayoutModel",
          "model_module_version": "1.2.0",
          "state": {
            "_view_name": "LayoutView",
            "grid_template_rows": null,
            "right": null,
            "justify_content": null,
            "_view_module": "@jupyter-widgets/base",
            "overflow": null,
            "_model_module_version": "1.2.0",
            "_view_count": null,
            "flex_flow": null,
            "width": null,
            "min_width": null,
            "border": null,
            "align_items": null,
            "bottom": null,
            "_model_module": "@jupyter-widgets/base",
            "top": null,
            "grid_column": null,
            "overflow_y": null,
            "overflow_x": null,
            "grid_auto_flow": null,
            "grid_area": null,
            "grid_template_columns": null,
            "flex": null,
            "_model_name": "LayoutModel",
            "justify_items": null,
            "grid_row": null,
            "max_height": null,
            "align_content": null,
            "visibility": null,
            "align_self": null,
            "height": null,
            "min_height": null,
            "padding": null,
            "grid_auto_rows": null,
            "grid_gap": null,
            "max_width": null,
            "order": null,
            "_view_module_version": "1.2.0",
            "grid_template_areas": null,
            "object_position": null,
            "object_fit": null,
            "grid_auto_columns": null,
            "margin": null,
            "display": null,
            "left": null
          }
        },
        "e498e8c9f15b4390b999415d76bedaa6": {
          "model_module": "@jupyter-widgets/controls",
          "model_name": "ProgressStyleModel",
          "model_module_version": "1.5.0",
          "state": {
            "_view_name": "StyleView",
            "_model_name": "ProgressStyleModel",
            "description_width": "",
            "_view_module": "@jupyter-widgets/base",
            "_model_module_version": "1.5.0",
            "_view_count": null,
            "_view_module_version": "1.2.0",
            "bar_color": null,
            "_model_module": "@jupyter-widgets/controls"
          }
        },
        "5742c20ba8e94a5298f6dd1b78636ba9": {
          "model_module": "@jupyter-widgets/base",
          "model_name": "LayoutModel",
          "model_module_version": "1.2.0",
          "state": {
            "_view_name": "LayoutView",
            "grid_template_rows": null,
            "right": null,
            "justify_content": null,
            "_view_module": "@jupyter-widgets/base",
            "overflow": null,
            "_model_module_version": "1.2.0",
            "_view_count": null,
            "flex_flow": null,
            "width": null,
            "min_width": null,
            "border": null,
            "align_items": null,
            "bottom": null,
            "_model_module": "@jupyter-widgets/base",
            "top": null,
            "grid_column": null,
            "overflow_y": null,
            "overflow_x": null,
            "grid_auto_flow": null,
            "grid_area": null,
            "grid_template_columns": null,
            "flex": null,
            "_model_name": "LayoutModel",
            "justify_items": null,
            "grid_row": null,
            "max_height": null,
            "align_content": null,
            "visibility": null,
            "align_self": null,
            "height": null,
            "min_height": null,
            "padding": null,
            "grid_auto_rows": null,
            "grid_gap": null,
            "max_width": null,
            "order": null,
            "_view_module_version": "1.2.0",
            "grid_template_areas": null,
            "object_position": null,
            "object_fit": null,
            "grid_auto_columns": null,
            "margin": null,
            "display": null,
            "left": null
          }
        },
        "e4563be90eb947cc9491c7f0588adbc0": {
          "model_module": "@jupyter-widgets/controls",
          "model_name": "DescriptionStyleModel",
          "model_module_version": "1.5.0",
          "state": {
            "_view_name": "StyleView",
            "_model_name": "DescriptionStyleModel",
            "description_width": "",
            "_view_module": "@jupyter-widgets/base",
            "_model_module_version": "1.5.0",
            "_view_count": null,
            "_view_module_version": "1.2.0",
            "_model_module": "@jupyter-widgets/controls"
          }
        },
        "b760580f913347b9aa98425dbb1a8f56": {
          "model_module": "@jupyter-widgets/base",
          "model_name": "LayoutModel",
          "model_module_version": "1.2.0",
          "state": {
            "_view_name": "LayoutView",
            "grid_template_rows": null,
            "right": null,
            "justify_content": null,
            "_view_module": "@jupyter-widgets/base",
            "overflow": null,
            "_model_module_version": "1.2.0",
            "_view_count": null,
            "flex_flow": null,
            "width": null,
            "min_width": null,
            "border": null,
            "align_items": null,
            "bottom": null,
            "_model_module": "@jupyter-widgets/base",
            "top": null,
            "grid_column": null,
            "overflow_y": null,
            "overflow_x": null,
            "grid_auto_flow": null,
            "grid_area": null,
            "grid_template_columns": null,
            "flex": null,
            "_model_name": "LayoutModel",
            "justify_items": null,
            "grid_row": null,
            "max_height": null,
            "align_content": null,
            "visibility": null,
            "align_self": null,
            "height": null,
            "min_height": null,
            "padding": null,
            "grid_auto_rows": null,
            "grid_gap": null,
            "max_width": null,
            "order": null,
            "_view_module_version": "1.2.0",
            "grid_template_areas": null,
            "object_position": null,
            "object_fit": null,
            "grid_auto_columns": null,
            "margin": null,
            "display": null,
            "left": null
          }
        }
      }
    }
  },
  "nbformat": 4,
  "nbformat_minor": 0
}